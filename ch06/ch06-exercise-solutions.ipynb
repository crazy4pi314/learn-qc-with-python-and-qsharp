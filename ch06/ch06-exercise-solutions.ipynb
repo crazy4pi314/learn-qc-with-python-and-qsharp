{
 "cells": [
  {
   "cell_type": "markdown",
   "metadata": {},
   "source": [
    "# [Learn Quantum Computing with Python and Q#](https://www.manning.com/books/learn-quantum-computing-with-python-and-q-sharp?a_aid=learn-qc-granade&a_bid=ee23f338)<br>Chapter 6 Exercise Solutions\n",
    "----\n",
    "> Copyright (c) Sarah Kaiser and Chris Granade.\n",
    "> Code sample from the book \"Learn Quantum Computing with Python and Q#\" by\n",
    "> Sarah Kaiser and Chris Granade, published by Manning Publications Co.\n",
    "> Book ISBN 9781617296130.\n",
    "> Code licensed under the MIT License."
   ]
  },
  {
   "cell_type": "markdown",
   "metadata": {},
   "source": [
    "### Exercise 6.1 "
   ]
  },
  {
   "cell_type": "markdown",
   "metadata": {},
   "source": [
    "**Change the definition of `HelloWorld` to say your name instead of \"classical world,\" and then run `%simulate` again using your new definition.**"
   ]
  },
  {
   "cell_type": "code",
   "execution_count": 1,
   "metadata": {},
   "outputs": [
    {
     "data": {
      "application/json": "[\"HelloWorld\"]",
      "text/html": [
       "<ul><li>HelloWorld</li></ul>"
      ],
      "text/plain": [
       "HelloWorld"
      ]
     },
     "execution_count": 1,
     "metadata": {},
     "output_type": "execute_result"
    }
   ],
   "source": [
    "function HelloWorld() : Unit {\n",
    "    Message(\"Hello, Sarah!\");\n",
    "}"
   ]
  },
  {
   "cell_type": "code",
   "execution_count": 2,
   "metadata": {},
   "outputs": [
    {
     "name": "stdout",
     "output_type": "stream",
     "text": [
      "Hello, Sarah!\r\n"
     ]
    },
    {
     "data": {
      "application/json": "{\"@type\":\"tuple\"}",
      "text/plain": [
       "()"
      ]
     },
     "execution_count": 2,
     "metadata": {},
     "output_type": "execute_result"
    }
   ],
   "source": [
    "%simulate HelloWorld"
   ]
  },
  {
   "cell_type": "markdown",
   "metadata": {},
   "source": [
    "----\n",
    "### Exercise 6.2"
   ]
  },
  {
   "cell_type": "markdown",
   "metadata": {},
   "source": [
    "**Use the `%simulate` magic command to run the `NextRandomBit` operation a few times; do you get the results you'd expect?**"
   ]
  },
  {
   "cell_type": "code",
   "execution_count": 3,
   "metadata": {},
   "outputs": [
    {
     "data": {
      "application/json": "[\"NextRandomBit\"]",
      "text/html": [
       "<ul><li>NextRandomBit</li></ul>"
      ],
      "text/plain": [
       "NextRandomBit"
      ]
     },
     "execution_count": 3,
     "metadata": {},
     "output_type": "execute_result"
    }
   ],
   "source": [
    "operation NextRandomBit() : Result {\n",
    "    using (qubit = Qubit()) {\n",
    "        H(qubit);\n",
    "        return M(qubit);\n",
    "    }\n",
    "}"
   ]
  },
  {
   "cell_type": "code",
   "execution_count": 4,
   "metadata": {},
   "outputs": [
    {
     "data": {
      "application/json": "1",
      "text/plain": [
       "One"
      ]
     },
     "execution_count": 4,
     "metadata": {},
     "output_type": "execute_result"
    }
   ],
   "source": [
    "%simulate NextRandomBit"
   ]
  },
  {
   "cell_type": "code",
   "execution_count": 5,
   "metadata": {},
   "outputs": [
    {
     "data": {
      "application/json": "0",
      "text/plain": [
       "Zero"
      ]
     },
     "execution_count": 5,
     "metadata": {},
     "output_type": "execute_result"
    }
   ],
   "source": [
    "%simulate NextRandomBit"
   ]
  },
  {
   "cell_type": "code",
   "execution_count": 6,
   "metadata": {},
   "outputs": [
    {
     "data": {
      "application/json": "0",
      "text/plain": [
       "Zero"
      ]
     },
     "execution_count": 6,
     "metadata": {},
     "output_type": "execute_result"
    }
   ],
   "source": [
    "%simulate NextRandomBit"
   ]
  },
  {
   "cell_type": "markdown",
   "metadata": {},
   "source": [
    "----\n",
    "### Exercise 6.3"
   ]
  },
  {
   "cell_type": "markdown",
   "metadata": {},
   "source": [
    "**What's the type of your new definition of `NextRandomBit`?**"
   ]
  },
  {
   "cell_type": "code",
   "execution_count": 7,
   "metadata": {},
   "outputs": [
    {
     "data": {
      "application/json": "[\"NextRandomBit\"]",
      "text/html": [
       "<ul><li>NextRandomBit</li></ul>"
      ],
      "text/plain": [
       "NextRandomBit"
      ]
     },
     "execution_count": 7,
     "metadata": {},
     "output_type": "execute_result"
    }
   ],
   "source": [
    "open Microsoft.Quantum.Measurement;\n",
    "\n",
    "operation NextRandomBit(\n",
    "        statePreparation : (Qubit => Unit)\n",
    ") : Result {\n",
    "    using (qubit = Qubit()) {\n",
    "        statePreparation(qubit);\n",
    "        return Microsoft.Quantum.Measurement.MResetZ(qubit);\n",
    "    }\n",
    "}"
   ]
  },
  {
   "cell_type": "markdown",
   "metadata": {},
   "source": [
    "This version of `NextRandomBit` is an operation that takes one input of type `(Qubit => Unit)`, and that returns a single output of type `Result`.\n",
    "Thus, `NextRandomBit` has type `((Qubit => Unit) => Result)`."
   ]
  },
  {
   "cell_type": "markdown",
   "metadata": {},
   "source": [
    "----\n",
    "### Exercise 6.4"
   ]
  },
  {
   "cell_type": "markdown",
   "metadata": {},
   "source": [
    "**Partial application works for functions as well as operations!\n",
    "Try it out by writing a function `Plus` that adds two integers, `n` and `m`, and another function `PartialPlus` that takes an input `n` and returns a function that adds `n` to its input.**\n",
    "\n",
    "*HINT*: You can get started using the following code snippet as a template.\n",
    "\n",
    "```Q#\n",
    "function Plus(n : Int, m : Int) : Int {\n",
    "    // fill in this part\n",
    "}\n",
    "\n",
    "function PartialPlus(n : Int) : (Int -> Int) {\n",
    "    // fill in this part\n",
    "}\n",
    "```"
   ]
  },
  {
   "cell_type": "code",
   "execution_count": 8,
   "metadata": {},
   "outputs": [
    {
     "data": {
      "application/json": "[\"Plus\",\"PartialPlus\"]",
      "text/html": [
       "<ul><li>Plus</li><li>PartialPlus</li></ul>"
      ],
      "text/plain": [
       "Plus, PartialPlus"
      ]
     },
     "execution_count": 8,
     "metadata": {},
     "output_type": "execute_result"
    }
   ],
   "source": [
    "function Plus(n : Int, m : Int) : Int {\n",
    "    return n + m;\n",
    "}\n",
    "\n",
    "function PartialPlus(n : Int) : (Int -> Int) {\n",
    "    return Plus(n, _);\n",
    "}"
   ]
  },
  {
   "cell_type": "code",
   "execution_count": 9,
   "metadata": {},
   "outputs": [
    {
     "data": {
      "application/json": "[\"Example\"]",
      "text/html": [
       "<ul><li>Example</li></ul>"
      ],
      "text/plain": [
       "Example"
      ]
     },
     "execution_count": 9,
     "metadata": {},
     "output_type": "execute_result"
    }
   ],
   "source": [
    "function Example() : Unit {\n",
    "    let plusTwo = PartialPlus(2);\n",
    "    let three = plusTwo(1);\n",
    "    let five = plusTwo(3);\n",
    "    Message($\"three = {three}, five = {five}\");\n",
    "}"
   ]
  },
  {
   "cell_type": "code",
   "execution_count": 10,
   "metadata": {},
   "outputs": [
    {
     "name": "stdout",
     "output_type": "stream",
     "text": [
      "three = 3, five = 5\r\n"
     ]
    },
    {
     "data": {
      "application/json": "{\"@type\":\"tuple\"}",
      "text/plain": [
       "()"
      ]
     },
     "execution_count": 10,
     "metadata": {},
     "output_type": "execute_result"
    }
   ],
   "source": [
    "%simulate Example"
   ]
  },
  {
   "cell_type": "markdown",
   "metadata": {},
   "source": [
    "----\n",
    "### Epilogue\n",
    "\n",
    "_The following cell logs what version of the components this was last tested with._"
   ]
  },
  {
   "cell_type": "code",
   "execution_count": 11,
   "metadata": {},
   "outputs": [
    {
     "data": {
      "application/json": "{\"rows\":[{\"@type\":\"@tuple\",\"Item1\":\"iqsharp\",\"Item2\":\"0.12.20070124\"},{\"@type\":\"@tuple\",\"Item1\":\"Jupyter Core\",\"Item2\":\"1.4.0.0\"},{\"@type\":\"@tuple\",\"Item1\":\".NET Runtime\",\"Item2\":\".NETCoreApp,Version=v3.1\"}]}",
      "text/html": [
       "<table><thead><tr><th style=\"text-align: start;\">Component</th><th style=\"text-align: start;\">Version</th></tr></thead><tbody><tr><td style=\"text-align: start;\">iqsharp</td><td style=\"text-align: start;\">0.12.20070124</td></tr><tr><td style=\"text-align: start;\">Jupyter Core</td><td style=\"text-align: start;\">1.4.0.0</td></tr><tr><td style=\"text-align: start;\">.NET Runtime</td><td style=\"text-align: start;\">.NETCoreApp,Version=v3.1</td></tr></tbody></table>"
      ],
      "text/plain": [
       "Component    Version\r\n",
       "------------ ------------------------\r\n",
       "iqsharp      0.12.20070124\r\n",
       "Jupyter Core 1.4.0.0\r\n",
       ".NET Runtime .NETCoreApp,Version=v3.1\r\n"
      ]
     },
     "metadata": {},
     "output_type": "display_data"
    }
   ],
   "source": [
    "%version"
   ]
  },
  {
   "cell_type": "code",
   "execution_count": null,
   "metadata": {},
   "outputs": [],
   "source": []
  }
 ],
 "metadata": {
  "kernelspec": {
   "display_name": "Q#",
   "language": "qsharp",
   "name": "iqsharp"
  },
  "language_info": {
   "file_extension": ".qs",
   "mimetype": "text/x-qsharp",
   "name": "qsharp",
   "version": "0.12"
  }
 },
 "nbformat": 4,
 "nbformat_minor": 4
}
