{
 "cells": [
  {
   "cell_type": "markdown",
   "metadata": {},
   "source": [
    "# Learn Quantum Computing with Python and Q#: Chapter 6 #"
   ]
  },
  {
   "cell_type": "markdown",
   "metadata": {},
   "source": [
    "## Classical Hello"
   ]
  },
  {
   "cell_type": "code",
   "execution_count": 1,
   "metadata": {},
   "outputs": [
    {
     "data": {
      "application/json": "[\"HelloWorld\"]",
      "text/html": [
       "<ul><li>HelloWorld</li></ul>"
      ],
      "text/plain": [
       "HelloWorld"
      ]
     },
     "execution_count": 1,
     "metadata": {},
     "output_type": "execute_result"
    }
   ],
   "source": [
    "function HelloWorld() : Unit {\n",
    "   Message(\"Hello, classical world!\");  \n",
    "}"
   ]
  },
  {
   "cell_type": "code",
   "execution_count": 2,
   "metadata": {},
   "outputs": [
    {
     "name": "stdout",
     "output_type": "stream",
     "text": [
      "Hello, classical world!\n"
     ]
    },
    {
     "data": {
      "application/json": "{\"@type\":\"tuple\"}",
      "text/plain": [
       "()"
      ]
     },
     "execution_count": 2,
     "metadata": {},
     "output_type": "execute_result"
    }
   ],
   "source": [
    "%simulate HelloWorld"
   ]
  },
  {
   "cell_type": "markdown",
   "metadata": {},
   "source": [
    "## QRNG"
   ]
  },
  {
   "cell_type": "code",
   "execution_count": 3,
   "metadata": {},
   "outputs": [
    {
     "data": {
      "application/json": "[\"NextRandomBit\",\"PlayMorganasGame\"]",
      "text/html": [
       "<ul><li>NextRandomBit</li><li>PlayMorganasGame</li></ul>"
      ],
      "text/plain": [
       "NextRandomBit, PlayMorganasGame"
      ]
     },
     "execution_count": 3,
     "metadata": {},
     "output_type": "execute_result"
    }
   ],
   "source": [
    "operation NextRandomBit() : Result {\n",
    "    using (qubit = Qubit()) {\n",
    "        H(qubit);                     \n",
    "        let result = M(qubit);\n",
    "        Reset(qubit);\n",
    "        return result;\n",
    "    }                                          \n",
    "}\n",
    "\n",
    "operation PlayMorganasGame() : Unit {                          \n",
    "    mutable nRounds = 0;                                       \n",
    "    mutable done = false;\n",
    "    repeat {                                                   \n",
    "    set nRounds = nRounds + 1;\n",
    "        set done = (NextRandomBit() == Zero);                 \n",
    "    }\n",
    "    until (done)                                                    \n",
    "    fixup {}\n",
    "\n",
    "    Message($\"It took Lancelot {nRounds} turns to get home.\"); \n",
    "}"
   ]
  },
  {
   "cell_type": "code",
   "execution_count": 4,
   "metadata": {},
   "outputs": [
    {
     "name": "stdout",
     "output_type": "stream",
     "text": [
      "It took Lancelot 2 turns to get home.\n"
     ]
    },
    {
     "data": {
      "application/json": "{\"@type\":\"tuple\"}",
      "text/plain": [
       "()"
      ]
     },
     "execution_count": 4,
     "metadata": {},
     "output_type": "execute_result"
    }
   ],
   "source": [
    "%simulate PlayMorganasGame"
   ]
  },
  {
   "cell_type": "markdown",
   "metadata": {},
   "source": [
    "## Biased QRNG"
   ]
  },
  {
   "cell_type": "code",
   "execution_count": 5,
   "metadata": {},
   "outputs": [
    {
     "data": {
      "application/json": "[\"NextRandomBit\",\"PlayMorganasGame\",\"PrepareBiasedCoin\"]",
      "text/html": [
       "<ul><li>NextRandomBit</li><li>PlayMorganasGame</li><li>PrepareBiasedCoin</li></ul>"
      ],
      "text/plain": [
       "NextRandomBit, PlayMorganasGame, PrepareBiasedCoin"
      ]
     },
     "execution_count": 5,
     "metadata": {},
     "output_type": "execute_result"
    }
   ],
   "source": [
    "open Microsoft.Quantum.Math;\n",
    "open Microsoft.Quantum.Measurement;\n",
    "\n",
    "operation PrepareBiasedCoin(winProbability : Double, qubit : Qubit) : Unit {\n",
    "    let rotationAngle = 2.0 * ArcCos(Sqrt(1.0 - winProbability));   \n",
    "    Ry(rotationAngle, qubit);\n",
    "}\n",
    "\n",
    "/// # Summary\n",
    "/// Given a state preparation operation, uses that operation to generate a\n",
    "/// random bit.\n",
    "///\n",
    "/// # Description\n",
    "/// This operation allocates a qubit, using an operation to prepare the state\n",
    "/// of that qubit, then measures and returns the result.\n",
    "///\n",
    "/// # Input\n",
    "/// ## statePreparation\n",
    "/// Operation to be used to prepare the state of the qubit used as a coin.\n",
    "///\n",
    "/// # Output\n",
    "/// The result of measuring the state prepared by the given state preparation\n",
    "/// operation.\n",
    "operation NextRandomBit(statePreparation : (Qubit => Unit)) : Result {\n",
    "    using (qubit = Qubit()) {\n",
    "        statePreparation(qubit);                                    \n",
    "        return MResetZ(qubit);\n",
    "    }\n",
    "}\n",
    "\n",
    "operation PlayMorganasGame(winProbability : Double) : Unit {\n",
    "    mutable nRounds = 0;\n",
    "    mutable done = false;\n",
    "    let prep = PrepareBiasedCoin(winProbability, _);                \n",
    "    repeat {\n",
    "        set nRounds = nRounds + 1;\n",
    "        set done = (NextRandomBit(prep) == Zero);\n",
    "    }\n",
    "    until (done)\n",
    "    fixup {}\n",
    "\n",
    "    Message($\"It took Lancelot {nRounds} turns to get home.\");\n",
    "}"
   ]
  },
  {
   "cell_type": "code",
   "execution_count": 6,
   "metadata": {},
   "outputs": [
    {
     "data": {
      "application/json": "[\"Main\"]",
      "text/html": [
       "<ul><li>Main</li></ul>"
      ],
      "text/plain": [
       "Main"
      ]
     },
     "execution_count": 6,
     "metadata": {},
     "output_type": "execute_result"
    }
   ],
   "source": [
    "operation Main() : Unit {\n",
    "   PlayMorganasGame(0.999);\n",
    "}"
   ]
  },
  {
   "cell_type": "code",
   "execution_count": 7,
   "metadata": {},
   "outputs": [
    {
     "name": "stdout",
     "output_type": "stream",
     "text": [
      "It took Lancelot 251 turns to get home.\n"
     ]
    },
    {
     "data": {
      "application/json": "{\"@type\":\"tuple\"}",
      "text/plain": [
       "()"
      ]
     },
     "execution_count": 7,
     "metadata": {},
     "output_type": "execute_result"
    }
   ],
   "source": [
    "%simulate Main"
   ]
  },
  {
   "cell_type": "markdown",
   "metadata": {},
   "source": [
    "## Epilogue ##"
   ]
  },
  {
   "cell_type": "code",
   "execution_count": 8,
   "metadata": {},
   "outputs": [
    {
     "data": {
      "application/json": "{\"rows\":[{\"@type\":\"@tuple\",\"Item1\":\"iqsharp\",\"Item2\":\"0.10.2002.2610\"},{\"@type\":\"@tuple\",\"Item1\":\"Jupyter Core\",\"Item2\":\"1.2.36563.0\"},{\"@type\":\"@tuple\",\"Item1\":\".NET Runtime\",\"Item2\":\".NETCoreApp,Version=v3.0\"}]}",
      "text/html": [
       "<table><thead><tr><th>Component</th><th>Version</th></tr></thead><tbody><tr><td>iqsharp</td><td>0.10.2002.2610</td></tr><tr><td>Jupyter Core</td><td>1.2.36563.0</td></tr><tr><td>.NET Runtime</td><td>.NETCoreApp,Version=v3.0</td></tr></tbody></table>"
      ],
      "text/plain": [
       "Component    Version\r\n",
       "------------ ------------------------\r\n",
       "iqsharp      0.10.2002.2610\r\n",
       "Jupyter Core 1.2.36563.0\r\n",
       ".NET Runtime .NETCoreApp,Version=v3.0\r\n"
      ]
     },
     "metadata": {},
     "output_type": "display_data"
    }
   ],
   "source": [
    "%version"
   ]
  },
  {
   "cell_type": "code",
   "execution_count": null,
   "metadata": {},
   "outputs": [],
   "source": []
  }
 ],
 "metadata": {
  "kernelspec": {
   "display_name": "Q#",
   "language": "qsharp",
   "name": "iqsharp"
  },
  "language_info": {
   "file_extension": ".qs",
   "mimetype": "text/x-qsharp",
   "name": "qsharp",
   "version": "0.4"
  }
 },
 "nbformat": 4,
 "nbformat_minor": 2
}
