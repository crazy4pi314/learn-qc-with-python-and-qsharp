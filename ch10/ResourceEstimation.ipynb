{
 "cells": [
  {
   "cell_type": "markdown",
   "metadata": {},
   "source": [
    "# Resource Estimation Example"
   ]
  },
  {
   "cell_type": "markdown",
   "metadata": {},
   "source": [
    "## Deutsch–Jozsa"
   ]
  },
  {
   "cell_type": "code",
   "execution_count": 1,
   "metadata": {},
   "outputs": [
    {
     "data": {
      "application/json": "[\"ApplyNotOracle\"]",
      "text/html": [
       "<ul><li>ApplyNotOracle</li></ul>"
      ],
      "text/plain": [
       "ApplyNotOracle"
      ]
     },
     "execution_count": 1,
     "metadata": {},
     "output_type": "execute_result"
    }
   ],
   "source": [
    "operation ApplyNotOracle(control : Qubit, target : Qubit) : Unit {\n",
    "    within {\n",
    "        X(control);\n",
    "    } apply {\n",
    "        CNOT(control, target);\n",
    "    }\n",
    "}"
   ]
  },
  {
   "cell_type": "code",
   "execution_count": 2,
   "metadata": {},
   "outputs": [
    {
     "data": {
      "application/json": "[\"CheckIfOracleIsBalanced\"]",
      "text/html": [
       "<ul><li>CheckIfOracleIsBalanced</li></ul>"
      ],
      "text/plain": [
       "CheckIfOracleIsBalanced"
      ]
     },
     "execution_count": 2,
     "metadata": {},
     "output_type": "execute_result"
    }
   ],
   "source": [
    "open Microsoft.Quantum.Measurement;\n",
    "\n",
    "operation CheckIfOracleIsBalanced(\n",
    "        oracle : ((Qubit, Qubit) => Unit)              \n",
    ") : Bool {\n",
    "    using ((control, target) = (Qubit(), Qubit())) {\n",
    "        H(control);\n",
    "        \n",
    "        within {\n",
    "            X(target);\n",
    "            H(target);\n",
    "        } apply {\n",
    "            oracle(control, target);\n",
    "        }\n",
    "        \n",
    "        return MResetX(control) == One;\n",
    "    }\n",
    "}"
   ]
  },
  {
   "cell_type": "code",
   "execution_count": 3,
   "metadata": {},
   "outputs": [
    {
     "data": {
      "application/json": "[\"RunDeutschJozsaAlgorithm\"]",
      "text/html": [
       "<ul><li>RunDeutschJozsaAlgorithm</li></ul>"
      ],
      "text/plain": [
       "RunDeutschJozsaAlgorithm"
      ]
     },
     "execution_count": 3,
     "metadata": {},
     "output_type": "execute_result"
    }
   ],
   "source": [
    "operation RunDeutschJozsaAlgorithm() : Bool {\n",
    "    return CheckIfOracleIsBalanced(ApplyNotOracle);\n",
    "}"
   ]
  },
  {
   "cell_type": "code",
   "execution_count": 4,
   "metadata": {},
   "outputs": [
    {
     "data": {
      "application/json": "[{\"Metric\":\"CNOT\",\"Sum\":1.0,\"Max\":1.0},{\"Metric\":\"QubitClifford\",\"Sum\":8.0,\"Max\":8.0},{\"Metric\":\"R\",\"Sum\":0.0,\"Max\":0.0},{\"Metric\":\"Measure\",\"Sum\":1.0,\"Max\":1.0},{\"Metric\":\"T\",\"Sum\":0.0,\"Max\":0.0},{\"Metric\":\"Depth\",\"Sum\":0.0,\"Max\":0.0},{\"Metric\":\"Width\",\"Sum\":2.0,\"Max\":2.0},{\"Metric\":\"BorrowedWidth\",\"Sum\":0.0,\"Max\":0.0}]",
      "text/html": [
       "<table><thead><tr><th style=\"text-align: start;\">Metric</th><th style=\"text-align: start;\">Sum</th><th style=\"text-align: start;\">Max</th></tr></thead><tbody><tr><td style=\"text-align: start;\">CNOT</td><td style=\"text-align: start;\">1</td><td style=\"text-align: start;\">1</td></tr><tr><td style=\"text-align: start;\">QubitClifford</td><td style=\"text-align: start;\">8</td><td style=\"text-align: start;\">8</td></tr><tr><td style=\"text-align: start;\">R</td><td style=\"text-align: start;\">0</td><td style=\"text-align: start;\">0</td></tr><tr><td style=\"text-align: start;\">Measure</td><td style=\"text-align: start;\">1</td><td style=\"text-align: start;\">1</td></tr><tr><td style=\"text-align: start;\">T</td><td style=\"text-align: start;\">0</td><td style=\"text-align: start;\">0</td></tr><tr><td style=\"text-align: start;\">Depth</td><td style=\"text-align: start;\">0</td><td style=\"text-align: start;\">0</td></tr><tr><td style=\"text-align: start;\">Width</td><td style=\"text-align: start;\">2</td><td style=\"text-align: start;\">2</td></tr><tr><td style=\"text-align: start;\">BorrowedWidth</td><td style=\"text-align: start;\">0</td><td style=\"text-align: start;\">0</td></tr></tbody></table>"
      ],
      "text/plain": [
       "Metric        Sum Max\r\n",
       "------------- - -\r\n",
       "CNOT          1 1\r\n",
       "QubitClifford 8 8\r\n",
       "R             0 0\r\n",
       "Measure       1 1\r\n",
       "T             0 0\r\n",
       "Depth         0 0\r\n",
       "Width         2 2\r\n",
       "BorrowedWidth 0 0\r\n"
      ]
     },
     "execution_count": 4,
     "metadata": {},
     "output_type": "execute_result"
    }
   ],
   "source": [
    "%estimate RunDeutschJozsaAlgorithm"
   ]
  },
  {
   "cell_type": "markdown",
   "metadata": {},
   "source": [
    "## CCNOT"
   ]
  },
  {
   "cell_type": "code",
   "execution_count": 5,
   "metadata": {},
   "outputs": [
    {
     "data": {
      "application/json": "[\"EstimateCcnotResources\"]",
      "text/html": [
       "<ul><li>EstimateCcnotResources</li></ul>"
      ],
      "text/plain": [
       "EstimateCcnotResources"
      ]
     },
     "execution_count": 5,
     "metadata": {},
     "output_type": "execute_result"
    }
   ],
   "source": [
    "operation EstimateCcnotResources() : Unit {\n",
    "    using (register = Qubit[3]) {\n",
    "        CCNOT(register[0], register[1], register[2]);\n",
    "    }\n",
    "}"
   ]
  },
  {
   "cell_type": "code",
   "execution_count": 6,
   "metadata": {},
   "outputs": [
    {
     "data": {
      "application/json": "[{\"Metric\":\"CNOT\",\"Sum\":10.0,\"Max\":10.0},{\"Metric\":\"QubitClifford\",\"Sum\":2.0,\"Max\":2.0},{\"Metric\":\"R\",\"Sum\":0.0,\"Max\":0.0},{\"Metric\":\"Measure\",\"Sum\":0.0,\"Max\":0.0},{\"Metric\":\"T\",\"Sum\":7.0,\"Max\":7.0},{\"Metric\":\"Depth\",\"Sum\":5.0,\"Max\":5.0},{\"Metric\":\"Width\",\"Sum\":3.0,\"Max\":3.0},{\"Metric\":\"BorrowedWidth\",\"Sum\":0.0,\"Max\":0.0}]",
      "text/html": [
       "<table><thead><tr><th style=\"text-align: start;\">Metric</th><th style=\"text-align: start;\">Sum</th><th style=\"text-align: start;\">Max</th></tr></thead><tbody><tr><td style=\"text-align: start;\">CNOT</td><td style=\"text-align: start;\">10</td><td style=\"text-align: start;\">10</td></tr><tr><td style=\"text-align: start;\">QubitClifford</td><td style=\"text-align: start;\">2</td><td style=\"text-align: start;\">2</td></tr><tr><td style=\"text-align: start;\">R</td><td style=\"text-align: start;\">0</td><td style=\"text-align: start;\">0</td></tr><tr><td style=\"text-align: start;\">Measure</td><td style=\"text-align: start;\">0</td><td style=\"text-align: start;\">0</td></tr><tr><td style=\"text-align: start;\">T</td><td style=\"text-align: start;\">7</td><td style=\"text-align: start;\">7</td></tr><tr><td style=\"text-align: start;\">Depth</td><td style=\"text-align: start;\">5</td><td style=\"text-align: start;\">5</td></tr><tr><td style=\"text-align: start;\">Width</td><td style=\"text-align: start;\">3</td><td style=\"text-align: start;\">3</td></tr><tr><td style=\"text-align: start;\">BorrowedWidth</td><td style=\"text-align: start;\">0</td><td style=\"text-align: start;\">0</td></tr></tbody></table>"
      ],
      "text/plain": [
       "Metric        Sum Max\r\n",
       "------------- -- --\r\n",
       "CNOT          10 10\r\n",
       "QubitClifford 2  2\r\n",
       "R             0  0\r\n",
       "Measure       0  0\r\n",
       "T             7  7\r\n",
       "Depth         5  5\r\n",
       "Width         3  3\r\n",
       "BorrowedWidth 0  0\r\n"
      ]
     },
     "execution_count": 6,
     "metadata": {},
     "output_type": "execute_result"
    }
   ],
   "source": [
    "%estimate EstimateCcnotResources"
   ]
  },
  {
   "cell_type": "code",
   "execution_count": null,
   "metadata": {},
   "outputs": [],
   "source": []
  }
 ],
 "metadata": {
  "kernelspec": {
   "display_name": "Q#",
   "language": "qsharp",
   "name": "iqsharp"
  },
  "language_info": {
   "file_extension": ".qs",
   "mimetype": "text/x-qsharp",
   "name": "qsharp",
   "version": "0.12"
  }
 },
 "nbformat": 4,
 "nbformat_minor": 2
}
