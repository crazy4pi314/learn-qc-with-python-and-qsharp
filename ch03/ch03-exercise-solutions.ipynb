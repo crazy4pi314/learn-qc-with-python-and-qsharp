{
 "cells": [
  {
   "cell_type": "markdown",
   "metadata": {},
   "source": [
    "# [Learn Quantum Computing with Python and Q#](https://www.manning.com/books/learn-quantum-computing-with-python-and-q-sharp?a_aid=learn-qc-granade&a_bid=ee23f338)<br>Chapter 3 Exercise Solutions\n",
    "----\n",
    "> Copyright (c) Sarah Kaiser and Chris Granade.\n",
    "> Code sample from the book \"Learn Quantum Computing with Python and Q#\" by\n",
    "> Sarah Kaiser and Chris Granade, published by Manning Publications Co.\n",
    "> Book ISBN 9781617296130.\n",
    "> Code licensed under the MIT License."
   ]
  },
  {
   "cell_type": "markdown",
   "metadata": {},
   "source": [
    "### Preamble"
   ]
  },
  {
   "cell_type": "code",
   "execution_count": 1,
   "metadata": {},
   "outputs": [],
   "source": [
    "import numpy as np"
   ]
  },
  {
   "cell_type": "markdown",
   "metadata": {},
   "source": [
    "### Exercise 3.1 "
   ]
  },
  {
   "cell_type": "markdown",
   "metadata": {},
   "source": [
    "**In Chapter 2, we saw that unitary matrices play the same role in quantum computing that _truth tables_ play in classical computing.\n",
    "We can use that to figure out what the matrix 𝑋 has to look like in order to represent the quantum NOT operation, `x`.\n",
    "Let's start by making a table of what the matrix 𝑋 has to do to each input state in order to represent what the `x` instruction does:**\n",
    "\n",
    "| Input | Output |\n",
    "|---|---|\n",
    "| \\|0⟩ | \\|1⟩\n",
    "| \\|1⟩ | \\|0⟩\n",
    "\n",
    "\n",
    "**This table tells us that if we multiply the matrix 𝑋 by the vector |0⟩, we need to get |1⟩, and similarly that 𝑋|1⟩ = |0⟩.\n",
    "Either by using NumPy or by hand, check that the matrix**\n",
    "\n",
    "\\begin{align}\n",
    "X = \\left(\\begin{matrix}\n",
    "    0 & 1 \\\\\n",
    "    1 & 0\n",
    "\\end{matrix}\\right)\n",
    "\\end{align}\n",
    "\n",
    "**matches what we have in our truth table above.**"
   ]
  },
  {
   "cell_type": "markdown",
   "metadata": {},
   "source": [
    "We can start by defining two variables, `ket0` and `ket1`, to store the vectors representing |0⟩ and |1⟩, respectively."
   ]
  },
  {
   "cell_type": "code",
   "execution_count": 2,
   "metadata": {},
   "outputs": [],
   "source": [
    "ket0 = np.array([\n",
    "    [1],\n",
    "    [0]\n",
    "])\n",
    "ket1 = np.array([\n",
    "    [0],\n",
    "    [1]\n",
    "])"
   ]
  },
  {
   "cell_type": "markdown",
   "metadata": {},
   "source": [
    "Next, we can define a variable to store the matrix $X$."
   ]
  },
  {
   "cell_type": "code",
   "execution_count": 3,
   "metadata": {},
   "outputs": [],
   "source": [
    "X = np.array([\n",
    "    [0, 1],\n",
    "    [1, 0]\n",
    "])"
   ]
  },
  {
   "cell_type": "markdown",
   "metadata": {},
   "source": [
    "Now, we can verify that `X @ ket0` is the same as `ket1` and vice versa:"
   ]
  },
  {
   "cell_type": "code",
   "execution_count": 4,
   "metadata": {},
   "outputs": [
    {
     "data": {
      "text/plain": [
       "array([[0],\n",
       "       [1]])"
      ]
     },
     "execution_count": 4,
     "metadata": {},
     "output_type": "execute_result"
    }
   ],
   "source": [
    "X @ ket0"
   ]
  },
  {
   "cell_type": "code",
   "execution_count": 5,
   "metadata": {},
   "outputs": [
    {
     "data": {
      "text/plain": [
       "array([[1],\n",
       "       [0]])"
      ]
     },
     "execution_count": 5,
     "metadata": {},
     "output_type": "execute_result"
    }
   ],
   "source": [
    "X @ ket1"
   ]
  },
  {
   "cell_type": "markdown",
   "metadata": {},
   "source": [
    "----\n",
    "### Exercise 3.2"
   ]
  },
  {
   "cell_type": "markdown",
   "metadata": {},
   "source": [
    "**Try using what we learned about vectors in the previous chapter to verify that |0⟩ = (|\\+⟩ + |−⟩) / √2, either by hand or using Python.**\n",
    "\n",
    "*HINT*: recall that |+⟩ = (|0⟩ + |1⟩) / √2 and that |−⟩ = (|0⟩ − |1⟩) / √2."
   ]
  },
  {
   "cell_type": "markdown",
   "metadata": {},
   "source": [
    "As before,it's helpful to start by defining variables to represent the vectors |+⟩ and |−⟩."
   ]
  },
  {
   "cell_type": "code",
   "execution_count": 6,
   "metadata": {},
   "outputs": [],
   "source": [
    "ket_plus = np.array([\n",
    "    [1],\n",
    "    [1]\n",
    "]) / np.sqrt(2)\n",
    "ket_minus = np.array([\n",
    "    [1],\n",
    "    [-1]\n",
    "]) / np.sqrt(2)"
   ]
  },
  {
   "cell_type": "markdown",
   "metadata": {},
   "source": [
    "Using these new variables, it's easy to verify that $|0\\rangle = (|+\\rangle + |-\\rangle) / \\sqrt{2}$."
   ]
  },
  {
   "cell_type": "code",
   "execution_count": 7,
   "metadata": {},
   "outputs": [
    {
     "data": {
      "text/plain": [
       "array([[1.],\n",
       "       [0.]])"
      ]
     },
     "execution_count": 7,
     "metadata": {},
     "output_type": "execute_result"
    }
   ],
   "source": [
    "(ket_plus + ket_minus) / np.sqrt(2)"
   ]
  },
  {
   "cell_type": "markdown",
   "metadata": {},
   "source": [
    "----\n",
    "### Exercise 3.3"
   ]
  },
  {
   "cell_type": "markdown",
   "metadata": {},
   "source": [
    "<strong>\n",
    "    <ul>\n",
    "        <li>Calculate what the probability of getting the measurement outcome |−⟩ when measuring the |0⟩ state in the |−⟩ direction.\n",
    "        <li>Also calculate what the probability of getting the |−⟩ measurement outcome with the input state of |1⟩.\n",
    "    </ul>\n",
    "</strong>"
   ]
  },
  {
   "cell_type": "code",
   "execution_count": 8,
   "metadata": {},
   "outputs": [],
   "source": [
    "ket0 = np.array([\n",
    "    [1],\n",
    "    [0]\n",
    "])\n",
    "ket1 = np.array([\n",
    "    [0],\n",
    "    [1]\n",
    "])"
   ]
  },
  {
   "cell_type": "code",
   "execution_count": 9,
   "metadata": {},
   "outputs": [],
   "source": [
    "ket_plus = np.array([\n",
    "    [1],\n",
    "    [1]\n",
    "]) / np.sqrt(2)\n",
    "ket_minus = np.array([\n",
    "    [1],\n",
    "    [-1]\n",
    "]) / np.sqrt(2)"
   ]
  },
  {
   "cell_type": "markdown",
   "metadata": {},
   "source": [
    "With these variables defined, it's easy to compute Born's rule, $\\Pr(- | 0) = |\\langle - | 0 \\rangle|^2$ by computing the inner product of $|-\\rangle$ with $|0\\rangle$ and taking the absolute value squared of the result."
   ]
  },
  {
   "cell_type": "code",
   "execution_count": 10,
   "metadata": {},
   "outputs": [
    {
     "data": {
      "text/plain": [
       "array([[0.5]])"
      ]
     },
     "execution_count": 10,
     "metadata": {},
     "output_type": "execute_result"
    }
   ],
   "source": [
    "np.abs(ket_minus.conj().transpose() @ ket0) ** 2"
   ]
  },
  {
   "cell_type": "markdown",
   "metadata": {},
   "source": [
    "Similarly, we can compute $\\Pr(- | 1)$ using the same technique."
   ]
  },
  {
   "cell_type": "code",
   "execution_count": 11,
   "metadata": {},
   "outputs": [
    {
     "data": {
      "text/plain": [
       "array([[0.5]])"
      ]
     },
     "execution_count": 11,
     "metadata": {},
     "output_type": "execute_result"
    }
   ],
   "source": [
    "np.abs(ket_minus.conj().transpose() @ ket1) ** 2"
   ]
  },
  {
   "cell_type": "markdown",
   "metadata": {},
   "source": [
    "----\n",
    "### Exercise 3.4"
   ]
  },
  {
   "cell_type": "markdown",
   "metadata": {},
   "source": [
    "**If you had the ciphertext `10100101` and the key `00100110`, what was the message that was originally sent?**"
   ]
  },
  {
   "cell_type": "code",
   "execution_count": 12,
   "metadata": {},
   "outputs": [],
   "source": [
    "ciphertext = [bit == '1' for bit in '10100101']\n",
    "key = [bit == '1' for bit in '00100110']"
   ]
  },
  {
   "cell_type": "code",
   "execution_count": 13,
   "metadata": {},
   "outputs": [],
   "source": [
    "plaintext = [cipher_bit ^ key_bit for (cipher_bit, key_bit) in zip(ciphertext, key)]"
   ]
  },
  {
   "cell_type": "code",
   "execution_count": 14,
   "metadata": {},
   "outputs": [
    {
     "data": {
      "text/plain": [
       "'10000011'"
      ]
     },
     "execution_count": 14,
     "metadata": {},
     "output_type": "execute_result"
    }
   ],
   "source": [
    "\"\".join(\"1\" if bit else \"0\" for bit in plaintext)"
   ]
  }
 ],
 "metadata": {
  "kernelspec": {
   "display_name": "Python 3",
   "language": "python",
   "name": "python3"
  },
  "language_info": {
   "codemirror_mode": {
    "name": "ipython",
    "version": 3
   },
   "file_extension": ".py",
   "mimetype": "text/x-python",
   "name": "python",
   "nbconvert_exporter": "python",
   "pygments_lexer": "ipython3",
   "version": "3.7.6"
  }
 },
 "nbformat": 4,
 "nbformat_minor": 4
}
