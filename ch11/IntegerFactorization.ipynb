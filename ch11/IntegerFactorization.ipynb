{
 "cells": [
  {
   "cell_type": "markdown",
   "metadata": {},
   "source": [
    "# [Learn Quantum Computing with Python and Q#](https://www.manning.com/books/learn-quantum-computing-with-python-and-q-sharp?a_aid=learn-qc-granade&a_bid=ee23f338)<br>11 | Arithmetic with quantum computers\n",
    "---\n"
   ]
  },
  {
   "cell_type": "markdown",
   "metadata": {},
   "source": [
    "# Arithmetic samples"
   ]
  },
  {
   "cell_type": "markdown",
   "metadata": {},
   "source": [
    "For this section of the notebook, we will turn off displaying states with small amplitudes so that when we are looking at larger registers it is easy to see the data we are looking for."
   ]
  },
  {
   "cell_type": "code",
   "execution_count": 1,
   "metadata": {},
   "outputs": [
    {
     "data": {
      "application/json": "\"\\\"true\\\"\"",
      "text/plain": [
       "\"true\""
      ]
     },
     "execution_count": 1,
     "metadata": {},
     "output_type": "execute_result"
    }
   ],
   "source": [
    "%config dump.truncateSmallAmplitudes = \"true\""
   ]
  },
  {
   "cell_type": "markdown",
   "metadata": {},
   "source": [
    "The `Microsoft.Quantum.Arithmetic` namespace is provided by the Q# Numerics package, and we want to tell the Q# kernel here to add that package to our workspace."
   ]
  },
  {
   "cell_type": "code",
   "execution_count": 2,
   "metadata": {},
   "outputs": [
    {
     "data": {
      "application/json": "{\"LastUpdated\":\"2020-07-05T18:54:10.7278258-07:00\",\"IsCompleted\":true,\"Description\":\"Adding package Microsoft.Quantum.Numerics\",\"Subtask\":\"done\"}",
      "text/plain": [
       "Adding package Microsoft.Quantum.Numerics: done!"
      ]
     },
     "metadata": {},
     "output_type": "display_data"
    },
    {
     "data": {
      "application/json": "[\"Microsoft.Quantum.Standard::0.12.20070124\",\"Microsoft.Quantum.Numerics::0.12.20070124\"]",
      "text/html": [
       "<ul><li>Microsoft.Quantum.Standard::0.12.20070124</li><li>Microsoft.Quantum.Numerics::0.12.20070124</li></ul>"
      ],
      "text/plain": [
       "Microsoft.Quantum.Standard::0.12.20070124, Microsoft.Quantum.Numerics::0.12.20070124"
      ]
     },
     "execution_count": 2,
     "metadata": {},
     "output_type": "execute_result"
    }
   ],
   "source": [
    "%package Microsoft.Quantum.Numerics"
   ]
  },
  {
   "cell_type": "markdown",
   "metadata": {},
   "source": [
    "### Sample 1: Adding integers with qubits"
   ]
  },
  {
   "cell_type": "code",
   "execution_count": 3,
   "metadata": {},
   "outputs": [
    {
     "data": {
      "application/json": "[\"AddCustom\"]",
      "text/html": [
       "<ul><li>AddCustom</li></ul>"
      ],
      "text/plain": [
       "AddCustom"
      ]
     },
     "execution_count": 3,
     "metadata": {},
     "output_type": "execute_result"
    }
   ],
   "source": [
    "open Microsoft.Quantum.Arithmetic;\n",
    "open Microsoft.Quantum.Diagnostics;\n",
    "open Microsoft.Quantum.Math;\n",
    "\n",
    "operation AddCustom(num1 : Int, num2 : Int) : Int {\n",
    "    // We need the registers to be large enough to hold the max possible sum\n",
    "    let bitSize = BitSizeI(MaxI((num1, num2))) + 1;\n",
    "    using ((reg1, reg2) = (Qubit[bitSize], Qubit[bitSize])) {\n",
    "        \n",
    "        // Here we configure two registers with LittleEndian encoding\n",
    "        let qubits1 = LittleEndian(reg1);\n",
    "        let qubits2 = LittleEndian(reg2);\n",
    "        \n",
    "        // Encode the integers in the qubit registers\n",
    "        ApplyXorInPlace(num1, qubits1);\n",
    "        ApplyXorInPlace(num2, qubits2);\n",
    "        \n",
    "        Message(\"Before addition:\");\n",
    "        DumpRegister((),reg2);\n",
    "        \n",
    "        // Using the Numerics package operation `AddI` you can add integers \n",
    "        // represented by two input registers `qubits1` and `qubits2`\n",
    "        AddI(qubits1, qubits2);\n",
    "\n",
    "        Message(\"After addition:\");\n",
    "        DumpRegister((),reg2);\n",
    "        \n",
    "        // Lastly, you reset the first register and measure the register\n",
    "        // with the results. `MeasureInteger` also resets the register \n",
    "        // after it is done.\n",
    "        ResetAll(reg1);\n",
    "        return MeasureInteger(qubits2);\n",
    "    }\n",
    "}"
   ]
  },
  {
   "cell_type": "code",
   "execution_count": 4,
   "metadata": {},
   "outputs": [
    {
     "name": "stdout",
     "output_type": "stream",
     "text": [
      "Before addition:\r\n"
     ]
    },
    {
     "data": {
      "application/json": "{\"QubitIds\":[4,5,6,7],\"NQubits\":4,\"Amplitudes\":[{\"Real\":0.0,\"Imaginary\":0.0,\"Magnitude\":0.0,\"Phase\":0.0},{\"Real\":0.0,\"Imaginary\":0.0,\"Magnitude\":0.0,\"Phase\":0.0},{\"Real\":0.0,\"Imaginary\":0.0,\"Magnitude\":0.0,\"Phase\":0.0},{\"Real\":0.0,\"Imaginary\":0.0,\"Magnitude\":0.0,\"Phase\":0.0},{\"Real\":0.0,\"Imaginary\":0.0,\"Magnitude\":0.0,\"Phase\":0.0},{\"Real\":0.0,\"Imaginary\":0.0,\"Magnitude\":0.0,\"Phase\":0.0},{\"Real\":1.0,\"Imaginary\":0.0,\"Magnitude\":1.0,\"Phase\":0.0},{\"Real\":0.0,\"Imaginary\":0.0,\"Magnitude\":0.0,\"Phase\":0.0},{\"Real\":0.0,\"Imaginary\":0.0,\"Magnitude\":0.0,\"Phase\":0.0},{\"Real\":0.0,\"Imaginary\":0.0,\"Magnitude\":0.0,\"Phase\":0.0},{\"Real\":0.0,\"Imaginary\":0.0,\"Magnitude\":0.0,\"Phase\":0.0},{\"Real\":0.0,\"Imaginary\":0.0,\"Magnitude\":0.0,\"Phase\":0.0},{\"Real\":0.0,\"Imaginary\":0.0,\"Magnitude\":0.0,\"Phase\":0.0},{\"Real\":0.0,\"Imaginary\":0.0,\"Magnitude\":0.0,\"Phase\":0.0},{\"Real\":0.0,\"Imaginary\":0.0,\"Magnitude\":0.0,\"Phase\":0.0},{\"Real\":0.0,\"Imaginary\":0.0,\"Magnitude\":0.0,\"Phase\":0.0}]}",
      "text/html": [
       "\r\n",
       "                    <table style=\"table-layout: fixed; width: 100%\">\r\n",
       "                        <thead>\r\n",
       "                            \r\n",
       "                        <tr>\r\n",
       "                            <th>Qubit IDs</th>\r\n",
       "                            <td span=\"3\">4, 5, 6, 7</td>\r\n",
       "                        </tr>\r\n",
       "                    \r\n",
       "                            <tr>\r\n",
       "                                <th style=\"width: 20ch)\">Basis state (little endian)</th>\r\n",
       "                                <th style=\"width: 20ch\">Amplitude</th>\r\n",
       "                                <th style=\"width: calc(100% - 26ch - 20ch)\">Meas. Pr.</th>\r\n",
       "                                <th style=\"width: 6ch\">Phase</th>\r\n",
       "                            </tr>\r\n",
       "                        </thead>\r\n",
       "\r\n",
       "                        <tbody>\r\n",
       "                            \r\n",
       "                            <tr>\r\n",
       "                                <td>$\\left|6\\right\\rangle$</td>\r\n",
       "                                <td>$1.0000 + 0.0000 i$</td>\r\n",
       "                                <td>\r\n",
       "                                    <progress\r\n",
       "                                        max=\"100\"\r\n",
       "                                        value=\"100\"\r\n",
       "                                        style=\"width: 100%;\"\r\n",
       "                                    >\r\n",
       "                                </td>\r\n",
       "                                \r\n",
       "                                <td style=\"transform: rotate(0deg);\r\n",
       "                   text-align: center;\">\r\n",
       "                                 ↑\r\n",
       "                                </td>\r\n",
       "                            \r\n",
       "                            </tr>\r\n",
       "                        \r\n",
       "                        </tbody>\r\n",
       "                    </table>\r\n",
       "                "
      ],
      "text/plain": [
       "|6⟩\t1 + 0𝑖"
      ]
     },
     "metadata": {},
     "output_type": "display_data"
    },
    {
     "name": "stdout",
     "output_type": "stream",
     "text": [
      "After addition:\r\n"
     ]
    },
    {
     "data": {
      "application/json": "{\"QubitIds\":[4,5,6,7],\"NQubits\":4,\"Amplitudes\":[{\"Real\":0.0,\"Imaginary\":0.0,\"Magnitude\":0.0,\"Phase\":0.0},{\"Real\":0.0,\"Imaginary\":0.0,\"Magnitude\":0.0,\"Phase\":0.0},{\"Real\":0.0,\"Imaginary\":0.0,\"Magnitude\":0.0,\"Phase\":0.0},{\"Real\":0.0,\"Imaginary\":0.0,\"Magnitude\":0.0,\"Phase\":0.0},{\"Real\":0.0,\"Imaginary\":0.0,\"Magnitude\":0.0,\"Phase\":0.0},{\"Real\":0.0,\"Imaginary\":0.0,\"Magnitude\":0.0,\"Phase\":0.0},{\"Real\":0.0,\"Imaginary\":0.0,\"Magnitude\":0.0,\"Phase\":0.0},{\"Real\":0.0,\"Imaginary\":0.0,\"Magnitude\":0.0,\"Phase\":0.0},{\"Real\":0.0,\"Imaginary\":0.0,\"Magnitude\":0.0,\"Phase\":0.0},{\"Real\":0.0,\"Imaginary\":0.0,\"Magnitude\":0.0,\"Phase\":0.0},{\"Real\":1.0,\"Imaginary\":0.0,\"Magnitude\":1.0,\"Phase\":0.0},{\"Real\":0.0,\"Imaginary\":0.0,\"Magnitude\":0.0,\"Phase\":0.0},{\"Real\":0.0,\"Imaginary\":0.0,\"Magnitude\":0.0,\"Phase\":0.0},{\"Real\":0.0,\"Imaginary\":0.0,\"Magnitude\":0.0,\"Phase\":0.0},{\"Real\":0.0,\"Imaginary\":0.0,\"Magnitude\":0.0,\"Phase\":0.0},{\"Real\":0.0,\"Imaginary\":0.0,\"Magnitude\":0.0,\"Phase\":0.0}]}",
      "text/html": [
       "\r\n",
       "                    <table style=\"table-layout: fixed; width: 100%\">\r\n",
       "                        <thead>\r\n",
       "                            \r\n",
       "                        <tr>\r\n",
       "                            <th>Qubit IDs</th>\r\n",
       "                            <td span=\"3\">4, 5, 6, 7</td>\r\n",
       "                        </tr>\r\n",
       "                    \r\n",
       "                            <tr>\r\n",
       "                                <th style=\"width: 20ch)\">Basis state (little endian)</th>\r\n",
       "                                <th style=\"width: 20ch\">Amplitude</th>\r\n",
       "                                <th style=\"width: calc(100% - 26ch - 20ch)\">Meas. Pr.</th>\r\n",
       "                                <th style=\"width: 6ch\">Phase</th>\r\n",
       "                            </tr>\r\n",
       "                        </thead>\r\n",
       "\r\n",
       "                        <tbody>\r\n",
       "                            \r\n",
       "                            <tr>\r\n",
       "                                <td>$\\left|10\\right\\rangle$</td>\r\n",
       "                                <td>$1.0000 + 0.0000 i$</td>\r\n",
       "                                <td>\r\n",
       "                                    <progress\r\n",
       "                                        max=\"100\"\r\n",
       "                                        value=\"100\"\r\n",
       "                                        style=\"width: 100%;\"\r\n",
       "                                    >\r\n",
       "                                </td>\r\n",
       "                                \r\n",
       "                                <td style=\"transform: rotate(0deg);\r\n",
       "                   text-align: center;\">\r\n",
       "                                 ↑\r\n",
       "                                </td>\r\n",
       "                            \r\n",
       "                            </tr>\r\n",
       "                        \r\n",
       "                        </tbody>\r\n",
       "                    </table>\r\n",
       "                "
      ],
      "text/plain": [
       "|10⟩\t1 + 0𝑖"
      ]
     },
     "metadata": {},
     "output_type": "display_data"
    },
    {
     "data": {
      "application/json": "10",
      "text/plain": [
       "10"
      ]
     },
     "execution_count": 4,
     "metadata": {},
     "output_type": "execute_result"
    }
   ],
   "source": [
    "%simulate AddCustom num1=4 num2=6"
   ]
  },
  {
   "cell_type": "markdown",
   "metadata": {},
   "source": [
    "### Sample 2: Multiplying "
   ]
  },
  {
   "cell_type": "code",
   "execution_count": 5,
   "metadata": {},
   "outputs": [
    {
     "data": {
      "application/json": "[\"PrepareSuperpositionOfTwoInts\",\"MultiplyInSuperpositionMod\"]",
      "text/html": [
       "<ul><li>PrepareSuperpositionOfTwoInts</li><li>MultiplyInSuperpositionMod</li></ul>"
      ],
      "text/plain": [
       "PrepareSuperpositionOfTwoInts, MultiplyInSuperpositionMod"
      ]
     },
     "execution_count": 5,
     "metadata": {},
     "output_type": "execute_result"
    }
   ],
   "source": [
    "open Microsoft.Quantum.Arithmetic;\n",
    "open Microsoft.Quantum.Diagnostics;\n",
    "open Microsoft.Quantum.Math;\n",
    "open Microsoft.Quantum.Arrays;\n",
    "\n",
    "// This operation takes a register and a pair of integers\n",
    "// and prepares that register in a superposition of those\n",
    "// integers in a LittleEndian encoding.\n",
    "operation PrepareSuperpositionOfTwoInts(register : LittleEndian, intPair : (Int, Int)) \n",
    ": Unit is Adj + Ctl {\n",
    "    using(ctrl = Qubit()) {\n",
    "        // The hadamard operation puts our control qubit in a superposition,\n",
    "        // so that when we control later operations on it they are also in superposition.\n",
    "        H(ctrl);\n",
    "        \n",
    "        within{\n",
    "            X(ctrl);\n",
    "        } \n",
    "        apply{\n",
    "            // Adding the `Controlled` functor here adds a first argument of \n",
    "            // the control register and then the arguments for the regular operation.\n",
    "            // Here we are taking the first int of the pair and ensuring that the \n",
    "            // register is encoded as LittleEndian.\n",
    "            Controlled ApplyXorInPlace([ctrl], (Fst(intPair), register));\n",
    "        }\n",
    "        \n",
    "        // Now we can do the same thing with the second int in `intPair` and encode\n",
    "        // it in `register` controlled on the `ctl` qubit.\n",
    "        Controlled ApplyXorInPlace([ctrl], (Snd(intPair), register));\n",
    "        // Here we add some unnecessary phase rotation so we can see how\n",
    "        // that propagates through later steps.\n",
    "        (ControlledOnInt(Snd(intPair), Y))(register!, ctrl);  \n",
    "    }\n",
    "}\n",
    "\n",
    "\n",
    "operation MultiplyInSuperpositionMod(\n",
    "    superpositionInt1 : Int,\n",
    "    superpositionInt2 : Int,\n",
    "    multiplier : Int, \n",
    "    modulus : Int\n",
    ") \n",
    ": Int {\n",
    "    // The first thing here is to figure out how big we need our\n",
    "    // registers to be, and allocate a register of qubits of that size.\n",
    "    // Here since we are doing modular multiplication, the largest possible \n",
    "    // value our register has to hold is the modulus - 1.\n",
    "    using (target = Qubit[BitSizeI(modulus)]) {\n",
    "        // We can use the other operation defined in this cell to prepare\n",
    "        // our target register in a superposition of integers.\n",
    "        PrepareSuperpositionOfTwoInts(LittleEndian(target), (superpositionInt1, superpositionInt2));\n",
    "        \n",
    "        Message(\"Before multiplication:\");\n",
    "        DumpMachine();\n",
    "        \n",
    "        // The Numerics package provides an operation that can take a \n",
    "        // LittleEndian register and multiply the value it represents by a\n",
    "        // multiplier mod the modulus.\n",
    "        MultiplyByModularInteger(multiplier, modulus, LittleEndian(target));\n",
    "        \n",
    "        Message(\"After multiplication:\");\n",
    "        DumpMachine();\n",
    "        return MeasureInteger(LittleEndian(target));\n",
    "\n",
    "    }\n",
    "}"
   ]
  },
  {
   "cell_type": "markdown",
   "metadata": {},
   "source": [
    "Here we are multiplying 3 by a superposition of 2 and 3 all mod 8."
   ]
  },
  {
   "cell_type": "code",
   "execution_count": 6,
   "metadata": {
    "scrolled": true
   },
   "outputs": [
    {
     "name": "stdout",
     "output_type": "stream",
     "text": [
      "Before multiplication:\r\n"
     ]
    },
    {
     "data": {
      "application/json": "{\"QubitIds\":[0,1,2,3],\"NQubits\":4,\"Amplitudes\":[{\"Real\":0.0,\"Imaginary\":0.0,\"Magnitude\":0.0,\"Phase\":0.0},{\"Real\":0.0,\"Imaginary\":0.0,\"Magnitude\":0.0,\"Phase\":0.0},{\"Real\":0.7071067811865476,\"Imaginary\":0.0,\"Magnitude\":0.7071067811865476,\"Phase\":0.0},{\"Real\":0.0,\"Imaginary\":-0.7071067811865476,\"Magnitude\":0.7071067811865476,\"Phase\":-1.5707963267948966},{\"Real\":0.0,\"Imaginary\":0.0,\"Magnitude\":0.0,\"Phase\":0.0},{\"Real\":0.0,\"Imaginary\":0.0,\"Magnitude\":0.0,\"Phase\":0.0},{\"Real\":0.0,\"Imaginary\":0.0,\"Magnitude\":0.0,\"Phase\":0.0},{\"Real\":0.0,\"Imaginary\":0.0,\"Magnitude\":0.0,\"Phase\":0.0},{\"Real\":0.0,\"Imaginary\":0.0,\"Magnitude\":0.0,\"Phase\":0.0},{\"Real\":0.0,\"Imaginary\":0.0,\"Magnitude\":0.0,\"Phase\":0.0},{\"Real\":0.0,\"Imaginary\":0.0,\"Magnitude\":0.0,\"Phase\":0.0},{\"Real\":0.0,\"Imaginary\":0.0,\"Magnitude\":0.0,\"Phase\":0.0},{\"Real\":0.0,\"Imaginary\":0.0,\"Magnitude\":0.0,\"Phase\":0.0},{\"Real\":0.0,\"Imaginary\":0.0,\"Magnitude\":0.0,\"Phase\":0.0},{\"Real\":0.0,\"Imaginary\":0.0,\"Magnitude\":0.0,\"Phase\":0.0},{\"Real\":0.0,\"Imaginary\":0.0,\"Magnitude\":0.0,\"Phase\":0.0}]}",
      "text/html": [
       "\r\n",
       "                    <table style=\"table-layout: fixed; width: 100%\">\r\n",
       "                        <thead>\r\n",
       "                            \r\n",
       "                        <tr>\r\n",
       "                            <th>Qubit IDs</th>\r\n",
       "                            <td span=\"3\">0, 1, 2, 3</td>\r\n",
       "                        </tr>\r\n",
       "                    \r\n",
       "                            <tr>\r\n",
       "                                <th style=\"width: 20ch)\">Basis state (little endian)</th>\r\n",
       "                                <th style=\"width: 20ch\">Amplitude</th>\r\n",
       "                                <th style=\"width: calc(100% - 26ch - 20ch)\">Meas. Pr.</th>\r\n",
       "                                <th style=\"width: 6ch\">Phase</th>\r\n",
       "                            </tr>\r\n",
       "                        </thead>\r\n",
       "\r\n",
       "                        <tbody>\r\n",
       "                            \r\n",
       "                            <tr>\r\n",
       "                                <td>$\\left|2\\right\\rangle$</td>\r\n",
       "                                <td>$0.7071 + 0.0000 i$</td>\r\n",
       "                                <td>\r\n",
       "                                    <progress\r\n",
       "                                        max=\"100\"\r\n",
       "                                        value=\"50.000000000000014\"\r\n",
       "                                        style=\"width: 100%;\"\r\n",
       "                                    >\r\n",
       "                                </td>\r\n",
       "                                \r\n",
       "                                <td style=\"transform: rotate(0deg);\r\n",
       "                   text-align: center;\">\r\n",
       "                                 ↑\r\n",
       "                                </td>\r\n",
       "                            \r\n",
       "                            </tr>\r\n",
       "                        \n",
       "\r\n",
       "                            <tr>\r\n",
       "                                <td>$\\left|3\\right\\rangle$</td>\r\n",
       "                                <td>$0.0000  -0.7071 i$</td>\r\n",
       "                                <td>\r\n",
       "                                    <progress\r\n",
       "                                        max=\"100\"\r\n",
       "                                        value=\"50.000000000000014\"\r\n",
       "                                        style=\"width: 100%;\"\r\n",
       "                                    >\r\n",
       "                                </td>\r\n",
       "                                \r\n",
       "                                <td style=\"transform: rotate(-90deg);\r\n",
       "                   text-align: center;\">\r\n",
       "                                 ↑\r\n",
       "                                </td>\r\n",
       "                            \r\n",
       "                            </tr>\r\n",
       "                        \r\n",
       "                        </tbody>\r\n",
       "                    </table>\r\n",
       "                "
      ],
      "text/plain": [
       "|2⟩\t0.7071067811865476 + 0𝑖\n",
       "|3⟩\t0 + -0.7071067811865476𝑖"
      ]
     },
     "metadata": {},
     "output_type": "display_data"
    },
    {
     "name": "stdout",
     "output_type": "stream",
     "text": [
      "After multiplication:\r\n"
     ]
    },
    {
     "data": {
      "application/json": "{\"QubitIds\":[0,1,2,3],\"NQubits\":4,\"Amplitudes\":[{\"Real\":4.547321826567101E-33,\"Imaginary\":2.3813782966001573E-33,\"Magnitude\":5.1331372849254495E-33,\"Phase\":0.48241800398335954},{\"Real\":3.1377979490254396E-16,\"Imaginary\":-0.7071067811865591,\"Magnitude\":0.7071067811865591,\"Phase\":-1.5707963267948961},{\"Real\":8.043059141838723E-33,\"Imaginary\":-1.2163355334611386E-33,\"Magnitude\":8.13451120160736E-33,\"Phase\":-0.1500906826487691},{\"Real\":-3.962004272384257E-33,\"Imaginary\":-3.2852274969023826E-33,\"Magnitude\":5.146862885369553E-33,\"Phase\":-2.449308623427555},{\"Real\":1.548273655182181E-32,\"Imaginary\":-1.0356894570104446E-33,\"Magnitude\":1.5517338166853285E-32,\"Phase\":-0.06679366976906628},{\"Real\":-1.3684240212368684E-31,\"Imaginary\":-7.04247793991748E-32,\"Magnitude\":1.539009180362588E-31,\"Phase\":-2.666300569258322},{\"Real\":0.7071067811865598,\"Imaginary\":-4.2371095939894593E-16,\"Magnitude\":0.7071067811865598,\"Phase\":-5.992177853080948E-16},{\"Real\":-1.236033349194057E-32,\"Imaginary\":-8.88975305206992E-33,\"Magnitude\":1.522516185000259E-32,\"Phase\":-2.518085942180426},{\"Real\":3.963539729452666E-34,\"Imaginary\":-4.808533015423586E-35,\"Magnitude\":3.992601543424274E-34,\"Phase\":-0.12072915388282424},{\"Real\":4.450754738631026E-17,\"Imaginary\":-9.802896872764181E-17,\"Magnitude\":1.076596511426153E-16,\"Phase\":-1.1446007201982447},{\"Real\":-1.8109292575548417E-33,\"Imaginary\":1.015262529546766E-33,\"Magnitude\":2.0761076031289488E-33,\"Phase\":2.6306243330948558},{\"Real\":5.4018957276738117E-33,\"Imaginary\":2.223020653258349E-33,\"Magnitude\":5.841429472096172E-33,\"Phase\":0.39040294369017453},{\"Real\":-1.1179875283112896E-33,\"Imaginary\":-3.133637661645935E-33,\"Magnitude\":3.3270980009529914E-33,\"Phase\":-1.9134894417982478},{\"Real\":1.0084851165234356E-33,\"Imaginary\":2.3477092225503535E-32,\"Magnitude\":2.3498742553486723E-32,\"Phase\":1.5278665850186737},{\"Real\":2.1742640408111398E-16,\"Imaginary\":6.426164497495947E-17,\"Magnitude\":2.267240618164106E-16,\"Phase\":0.2873746191959809},{\"Real\":-1.8799230920186667E-34,\"Imaginary\":-3.742921844280044E-33,\"Magnitude\":3.747639929436628E-33,\"Phase\":-1.6209802407680334}]}",
      "text/html": [
       "\r\n",
       "                    <table style=\"table-layout: fixed; width: 100%\">\r\n",
       "                        <thead>\r\n",
       "                            \r\n",
       "                        <tr>\r\n",
       "                            <th>Qubit IDs</th>\r\n",
       "                            <td span=\"3\">0, 1, 2, 3</td>\r\n",
       "                        </tr>\r\n",
       "                    \r\n",
       "                            <tr>\r\n",
       "                                <th style=\"width: 20ch)\">Basis state (little endian)</th>\r\n",
       "                                <th style=\"width: 20ch\">Amplitude</th>\r\n",
       "                                <th style=\"width: calc(100% - 26ch - 20ch)\">Meas. Pr.</th>\r\n",
       "                                <th style=\"width: 6ch\">Phase</th>\r\n",
       "                            </tr>\r\n",
       "                        </thead>\r\n",
       "\r\n",
       "                        <tbody>\r\n",
       "                            \r\n",
       "                            <tr>\r\n",
       "                                <td>$\\left|1\\right\\rangle$</td>\r\n",
       "                                <td>$0.0000  -0.7071 i$</td>\r\n",
       "                                <td>\r\n",
       "                                    <progress\r\n",
       "                                        max=\"100\"\r\n",
       "                                        value=\"50.00000000000164\"\r\n",
       "                                        style=\"width: 100%;\"\r\n",
       "                                    >\r\n",
       "                                </td>\r\n",
       "                                \r\n",
       "                                <td style=\"transform: rotate(-89.99999999999997deg);\r\n",
       "                   text-align: center;\">\r\n",
       "                                 ↑\r\n",
       "                                </td>\r\n",
       "                            \r\n",
       "                            </tr>\r\n",
       "                        \n",
       "\r\n",
       "                            <tr>\r\n",
       "                                <td>$\\left|6\\right\\rangle$</td>\r\n",
       "                                <td>$0.7071  -0.0000 i$</td>\r\n",
       "                                <td>\r\n",
       "                                    <progress\r\n",
       "                                        max=\"100\"\r\n",
       "                                        value=\"50.000000000001734\"\r\n",
       "                                        style=\"width: 100%;\"\r\n",
       "                                    >\r\n",
       "                                </td>\r\n",
       "                                \r\n",
       "                                <td style=\"transform: rotate(-3.43326501073301E-14deg);\r\n",
       "                   text-align: center;\">\r\n",
       "                                 ↑\r\n",
       "                                </td>\r\n",
       "                            \r\n",
       "                            </tr>\r\n",
       "                        \r\n",
       "                        </tbody>\r\n",
       "                    </table>\r\n",
       "                "
      ],
      "text/plain": [
       "|1⟩\t3.1377979490254396E-16 + -0.7071067811865591𝑖\n",
       "|6⟩\t0.7071067811865598 + -4.2371095939894593E-16𝑖"
      ]
     },
     "metadata": {},
     "output_type": "display_data"
    },
    {
     "data": {
      "application/json": "1",
      "text/plain": [
       "1"
      ]
     },
     "execution_count": 6,
     "metadata": {},
     "output_type": "execute_result"
    }
   ],
   "source": [
    "%simulate MultiplyInSuperpositionMod superpositionInt1=2 superpositionInt2=3 multiplier=3 modulus=8"
   ]
  },
  {
   "cell_type": "markdown",
   "metadata": {},
   "source": [
    "----\n",
    "\n",
    "# Factoring samples"
   ]
  },
  {
   "cell_type": "code",
   "execution_count": 7,
   "metadata": {},
   "outputs": [
    {
     "name": "stdout",
     "output_type": "stream",
     "text": [
      "We have guessed a divisor of 21 to be 3 by accident. Nothing left to do.\r\n"
     ]
    },
    {
     "data": {
      "application/json": "{\"@type\":\"@tuple\",\"Item1\":3,\"Item2\":7}",
      "text/plain": [
       "(3, 7)"
      ]
     },
     "execution_count": 7,
     "metadata": {},
     "output_type": "execute_result"
    }
   ],
   "source": [
    "%simulate FactorSemiprimeInteger number=21"
   ]
  },
  {
   "cell_type": "code",
   "execution_count": 10,
   "metadata": {},
   "outputs": [
    {
     "name": "stdout",
     "output_type": "stream",
     "text": [
      "Estimating period of 13...\n",
      "The estimated frequency was 0, trying again.\n",
      "The estimated period from continued fractions failed, trying again.\n",
      "The estimated frequency was 0, trying again.\n",
      "The estimated period from continued fractions failed, trying again.\n"
     ]
    },
    {
     "data": {
      "application/json": "{\"@type\":\"@tuple\",\"Item1\":7,\"Item2\":3}",
      "text/plain": [
       "(7, 3)"
      ]
     },
     "execution_count": 10,
     "metadata": {},
     "output_type": "execute_result"
    }
   ],
   "source": [
    "%simulate FactorSemiprimeInteger number=21"
   ]
  },
  {
   "cell_type": "markdown",
   "metadata": {},
   "source": [
    "----\n",
    "### Epilogue\n",
    "\n",
    "_The following cell logs what version of the components this was last tested with._"
   ]
  },
  {
   "cell_type": "code",
   "execution_count": 8,
   "metadata": {},
   "outputs": [
    {
     "data": {
      "application/json": "{\"rows\":[{\"@type\":\"@tuple\",\"Item1\":\"iqsharp\",\"Item2\":\"0.12.20070124\"},{\"@type\":\"@tuple\",\"Item1\":\"Jupyter Core\",\"Item2\":\"1.4.0.0\"},{\"@type\":\"@tuple\",\"Item1\":\".NET Runtime\",\"Item2\":\".NETCoreApp,Version=v3.1\"}]}",
      "text/html": [
       "<table><thead><tr><th style=\"text-align: start;\">Component</th><th style=\"text-align: start;\">Version</th></tr></thead><tbody><tr><td style=\"text-align: start;\">iqsharp</td><td style=\"text-align: start;\">0.12.20070124</td></tr><tr><td style=\"text-align: start;\">Jupyter Core</td><td style=\"text-align: start;\">1.4.0.0</td></tr><tr><td style=\"text-align: start;\">.NET Runtime</td><td style=\"text-align: start;\">.NETCoreApp,Version=v3.1</td></tr></tbody></table>"
      ],
      "text/plain": [
       "Component    Version\r\n",
       "------------ ------------------------\r\n",
       "iqsharp      0.12.20070124\r\n",
       "Jupyter Core 1.4.0.0\r\n",
       ".NET Runtime .NETCoreApp,Version=v3.1\r\n"
      ]
     },
     "metadata": {},
     "output_type": "display_data"
    }
   ],
   "source": [
    "%version"
   ]
  }
 ],
 "metadata": {
  "kernelspec": {
   "display_name": "Q#",
   "language": "qsharp",
   "name": "iqsharp"
  },
  "language_info": {
   "file_extension": ".qs",
   "mimetype": "text/x-qsharp",
   "name": "qsharp",
   "version": "0.12"
  }
 },
 "nbformat": 4,
 "nbformat_minor": 4
}
