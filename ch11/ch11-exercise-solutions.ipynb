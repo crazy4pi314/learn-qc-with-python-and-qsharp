{
 "cells": [
  {
   "cell_type": "markdown",
   "metadata": {},
   "source": [
    "# [Learn Quantum Computing with Python and Q#](https://www.manning.com/books/learn-quantum-computing-with-python-and-q-sharp?a_aid=learn-qc-granade&a_bid=ee23f338)<br>Chapter 11 Exercise Solutions\n",
    "----\n",
    "> Copyright (c) Sarah Kaiser and Cassandra Granade.\n",
    "> Code sample from the book \"Learn Quantum Computing with Python and Q#\" by\n",
    "> Sarah Kaiser and Cassandra Granade, published by Manning Publications Co.\n",
    "> Book ISBN 9781617296130.\n",
    "> Code licensed under the MIT License."
   ]
  },
  {
   "cell_type": "markdown",
   "metadata": {},
   "source": [
    "\n",
    "### Exercise 11.1 "
   ]
  },
  {
   "cell_type": "markdown",
   "metadata": {},
   "source": [
    "**Use `DumpMachine` to see how `Controlled Z` acts on the uniform superposition state\n",
    "$\\left| + + + \\cdots +\\right\\rangle$ .**\n",
    "\n"
   ]
  },
  {
   "cell_type": "code",
   "execution_count": null,
   "metadata": {},
   "outputs": [],
   "source": [
    "open Microsoft.Quantum.Diagnostics;\n",
    "open Microsoft.Quantum.Arrays;\n",
    "\n",
    "operation ReportCZEffect(nQubits : Int) : Unit {\n",
    "    use register = Qubit[nQubits];\n",
    "    // Prepares the register in the |+++ ...+〉state.\n",
    "    ApplyToEach(H, register);\n",
    "\n",
    "    Message(\"Before the Controlled Z operation:\");\n",
    "    DumpRegister((), register);\n",
    "\n",
    "    Controlled Z(Most(register), Tail(register));\n",
    "\n",
    "    Message(\"After the Controlled Z operation:\");\n",
    "    DumpRegister((), register);\n",
    "        \n",
    "    ResetAll(register);\n",
    "} "
   ]
  },
  {
   "cell_type": "code",
   "execution_count": null,
   "metadata": {},
   "outputs": [],
   "source": [
    "%simulate ReportCZEffect nQubits=3"
   ]
  },
  {
   "cell_type": "markdown",
   "metadata": {},
   "source": [
    "You can see that applying the `Controlled Z` operation has flipped the phase of the all-ones computational basis state. In particular, the $|7\\rangle = |111\\rangle$ basis state has been mapped to $-|7\\rangle$ while all other basis states are left alone.\n",
    "We say that the `Controlled Z` operation is a _reflection about the $|111\\rangle$ state_."
   ]
  },
  {
   "cell_type": "markdown",
   "metadata": {},
   "source": [
    "----\n",
    "### Exercise 11.2"
   ]
  },
  {
   "cell_type": "markdown",
   "metadata": {},
   "source": [
    "**The operation `ReflectAboutMarkedState` uses `X(flag); H(flag);` to prepare the flag qubit, however you could also have used `H(flag); Z(flag);`.**\n",
    "\n",
    "**Using either or both of QuTiP and `AssertOperationsEqualReferenced`, prove that these two ways of preparing your flag qubit give you the same reflection.**"
   ]
  },
  {
   "cell_type": "code",
   "execution_count": null,
   "metadata": {},
   "outputs": [],
   "source": [
    "open Microsoft.Quantum.Diagnostics;\n",
    "open Microsoft.Quantum.Math;\n",
    "open GroverSearch;\n",
    "\n",
    "operation UseXHPreparation(\n",
    "    markedItemOracle : ((Qubit[], Qubit) => Unit is Adj),\n",
    "    inputQubits : Qubit[]) \n",
    ": Unit is Adj {\n",
    "    use flag = Qubit();\n",
    "    within {\n",
    "        X(flag);\n",
    "        H(flag);\n",
    "    } apply{\n",
    "        markedItemOracle(inputQubits, flag);                                       \n",
    "    }\n",
    "}\n",
    "\n",
    "operation UseHZPreparation(\n",
    "    markedItemOracle : ((Qubit[], Qubit) => Unit is Adj),\n",
    "    inputQubits : Qubit[]) \n",
    ": Unit is Adj {\n",
    "    use flag = Qubit();\n",
    "    within {\n",
    "        H(flag);\n",
    "        Z(flag);\n",
    "    } apply{\n",
    "        markedItemOracle(inputQubits, flag);                                       \n",
    "    }\n",
    "}\n",
    "\n",
    "operation ProveEqualPreparations(nItems : Int, idxMarkedItem : Int) : Unit {\n",
    "    let markItem = ApplyOracle(idxMarkedItem, _, _);\n",
    "    AssertOperationsEqualReferenced(BitSizeI(nItems-1),\n",
    "        UseXHPreparation(markItem, _),\n",
    "        UseHZPreparation(markItem, _)\n",
    "    );\n",
    "}"
   ]
  },
  {
   "cell_type": "code",
   "execution_count": null,
   "metadata": {},
   "outputs": [],
   "source": [
    "%simulate ProveEqualPreparations nItems=8 idxMarkedItem=2"
   ]
  },
  {
   "cell_type": "markdown",
   "metadata": {},
   "source": [
    "----\n",
    "### Exercise 11.3"
   ]
  },
  {
   "cell_type": "markdown",
   "metadata": {},
   "source": [
    "**Try writing out what `(ControlledOnInt(4, X))(register, flag)` does to the state of `register + [flag]`, using either Dirac notation (check out Chapters 2 and 4 if you need a refresher) or by writing down a unitary matrix that can be used to simulate `(ControlledOnInt(4, X))` acting on a three-qubit register and a flag qubit.\n",
    "Try doing the same, but for `(ControlledOnInt(4, Z))`.**\n",
    "\n",
    "> **HINT**: since `(ControlledOnInt(4, X))` acts on four qubits in this example (three control qubits and a target qubit), your unitary matrix should be a $16 \\times 16$ matrix."
   ]
  },
  {
   "cell_type": "markdown",
   "metadata": {},
   "source": [
    "Using Dirac notation for brevity, `(ControlledOnInt(4, X))` can be represented by the unitary matrix\n",
    "$$\n",
    "    U_{CX_4} = \\left(\n",
    "        |000\\rangle\\langle000| +\n",
    "        |010\\rangle\\langle010| +\n",
    "        |011\\rangle\\langle011| +\n",
    "        |100\\rangle\\langle100| +\n",
    "        |101\\rangle\\langle101| +\n",
    "        |110\\rangle\\langle110| +\n",
    "        |111\\rangle\\langle111|\n",
    "    \\right) \\otimes 𝟙 +\n",
    "    |001\\rangle\\langle001| \\otimes X.\n",
    "$$\n",
    "\n",
    "Put differently, the `(ControlledOnInt(4, X))` operation leaves all computational basis states alone except those for which the control register is in the $|001\\rangle = |4\\rangle$ state (recall, Q# uses little-endian notation, so that $4$ is written out as $001$)."
   ]
  },
  {
   "cell_type": "markdown",
   "metadata": {},
   "source": [
    "----\n",
    "### Exercise 11.4"
   ]
  },
  {
   "cell_type": "markdown",
   "metadata": {},
   "source": [
    "**Try changing the definition of the oracle to control on a different integer.\n",
    "Does this change the output when you run Grover's algorithm?**"
   ]
  },
  {
   "cell_type": "code",
   "execution_count": null,
   "metadata": {},
   "outputs": [],
   "source": [
    "%simulate RunGroverSearch nItems=8 idxMarkedItem=2"
   ]
  },
  {
   "cell_type": "markdown",
   "metadata": {},
   "source": [
    "Chaning the integer it is searching for (also controling on) does not change the output."
   ]
  },
  {
   "cell_type": "markdown",
   "metadata": {},
   "source": [
    "----\n",
    "### Exercise 11.5"
   ]
  },
  {
   "cell_type": "markdown",
   "metadata": {},
   "source": [
    "**Try modifying your implementation of Grover's algorithm to apply twice as many iterations, and use `DumpMachine` to look at the state that results.\n",
    "Does that seem like what you'd expect from applying a rotation twice?**"
   ]
  },
  {
   "cell_type": "code",
   "execution_count": null,
   "metadata": {},
   "outputs": [],
   "source": [
    "open Microsoft.Quantum.Diagnostics;\n",
    "open Microsoft.Quantum.Arithmetic;\n",
    "open Microsoft.Quantum.Math;\n",
    "open GroverSearch;\n",
    "\n",
    "operation SearchForMarkedItemLonger(\n",
    "    nItems : Int,\n",
    "    markItem : ((Qubit[], Qubit) => Unit is Adj)) \n",
    ": Int {\n",
    "    use qubits = Qubit[BitSizeI(nItems - 1)];\n",
    "    PrepareInitialState(qubits);\n",
    "        \n",
    "    for idxIteration in 0..NIterations(BitSizeI(nItems - 1)) - 1 {\n",
    "        ReflectAboutMarkedState(markItem, qubits);\n",
    "        ReflectAboutInitialState(PrepareInitialState, qubits);\n",
    "    }\n",
    "    Message(\"After the normal number of iterations:\");        \n",
    "    DumpMachine();\n",
    "\n",
    "    for idxIteration in 0..NIterations(BitSizeI(nItems - 1)) - 1 {\n",
    "        ReflectAboutMarkedState(markItem, qubits);\n",
    "        ReflectAboutInitialState(PrepareInitialState, qubits);\n",
    "    }\n",
    "    Message(\"After twice the normal number of iterations:\");\n",
    "    DumpMachine();\n",
    "\n",
    "    return MeasureInteger(LittleEndian(qubits));\n",
    "}\n",
    "\n",
    "operation RunGroverSearchLonger(nItems : Int, idxMarkedItem : Int) : Unit {\n",
    "    let markItem = ApplyOracle(idxMarkedItem, _, _);\n",
    "    let foundItem = SearchForMarkedItemLonger(nItems, markItem);\n",
    "    Message($\"Marked {idxMarkedItem} and found {foundItem}.\");\n",
    "}"
   ]
  },
  {
   "cell_type": "code",
   "execution_count": null,
   "metadata": {},
   "outputs": [],
   "source": [
    "%simulate RunGroverSearchLonger nItems=8 idxMarkedItem=4"
   ]
  },
  {
   "cell_type": "markdown",
   "metadata": {},
   "source": [
    "What you can see here is that if your continue reflecting the state past the ideal number of reflections you get that at twice the optimal number of reflections the marked state is the least likely to be measured (it has the smallest amplitude). This makes some sense as there is a lot of trigonometry involved in finding the optimum number of reflections such that you might see periodic features like this."
   ]
  },
  {
   "cell_type": "markdown",
   "metadata": {},
   "source": [
    "----\n",
    "### Exercise 11.6"
   ]
  },
  {
   "cell_type": "markdown",
   "metadata": {},
   "source": [
    "**Use `AssertOperationsEqualReferenced` to prove that applying the `T` operation four times does the same thing as applying `Z` once.**"
   ]
  },
  {
   "cell_type": "code",
   "execution_count": null,
   "metadata": {},
   "outputs": [],
   "source": [
    "open Microsoft.Quantum.Diagnostics;\n",
    "\n",
    "operation ProveFourTEqualsOneZ() : Unit {\n",
    "    AssertOperationsEqualReferenced(1,\n",
    "        ApplyToEachA(OperationPowA(T, 4), _),\n",
    "        ApplyToEachA(Z, _)\n",
    "    );\n",
    "}"
   ]
  },
  {
   "cell_type": "code",
   "execution_count": null,
   "metadata": {},
   "outputs": [],
   "source": [
    "%simulate ProveFourTEqualsOneZ"
   ]
  },
  {
   "cell_type": "markdown",
   "metadata": {},
   "source": [
    "**There's another operation `S` that can be thought of as the square root of `Z` (a 90° rotation about the s $Z$-axis); check that applying `T` twice is the same as applying `S` once.**"
   ]
  },
  {
   "cell_type": "code",
   "execution_count": null,
   "metadata": {},
   "outputs": [],
   "source": [
    "open Microsoft.Quantum.Diagnostics;\n",
    "\n",
    "operation ProveTwoTEqualsOneS() : Unit {\n",
    "    AssertOperationsEqualReferenced(1,\n",
    "        ApplyToEachA(OperationPowA(T, 2), _),\n",
    "        ApplyToEachA(S, _)\n",
    "    );\n",
    "}"
   ]
  },
  {
   "cell_type": "code",
   "execution_count": null,
   "metadata": {},
   "outputs": [],
   "source": [
    "%simulate ProveTwoTEqualsOneS"
   ]
  },
  {
   "cell_type": "markdown",
   "metadata": {},
   "source": [
    "----\n",
    "### Exercise 11.7"
   ]
  },
  {
   "cell_type": "markdown",
   "metadata": {},
   "source": [
    "**Why don't we need to reset the register of qubits allocated in `EstimateCcnotResources` as shown in Figure 11.10?**"
   ]
  },
  {
   "cell_type": "markdown",
   "metadata": {},
   "source": [
    "You don't need to reset the register because the `CCNOT` operation didn't do anything. Both control qubits were in the zero state, so that means the operation should do nothing.\n",
    "Put differently, the all-zeros state is an eigenstate of the `CCNOT` operation."
   ]
  },
  {
   "cell_type": "markdown",
   "metadata": {},
   "source": [
    "----\n",
    "### Exercise 11.8"
   ]
  },
  {
   "cell_type": "markdown",
   "metadata": {},
   "source": [
    "**How does the number of `T` operation calls change as you increase the number of control qubits? A rough trend is fine.**\n",
    "\n",
    "> **HINT:** As you saw above, a controlled-NOT operation with an arbitrary number of qubits can be written as `Controlled X(Most(qs), Tail(qs));`, using functions provided by the `Microsoft.Quantum.Arrays` namespace."
   ]
  },
  {
   "cell_type": "code",
   "execution_count": null,
   "metadata": {},
   "outputs": [],
   "source": [
    "open Microsoft.Quantum.Arrays;\n",
    "\n",
    "operation EstimateCNotScaling(nQubits : Int) : Unit{\n",
    "    use register = Qubit[nQubits];\n",
    "    Controlled X(Most(register), Tail(register));\n",
    "}\n"
   ]
  },
  {
   "cell_type": "code",
   "execution_count": null,
   "metadata": {},
   "outputs": [],
   "source": [
    "%estimate EstimateCNotScaling nQubits=4"
   ]
  },
  {
   "cell_type": "code",
   "execution_count": null,
   "metadata": {},
   "outputs": [],
   "source": [
    "%estimate EstimateCNotScaling nQubits=5"
   ]
  },
  {
   "cell_type": "code",
   "execution_count": null,
   "metadata": {},
   "outputs": [],
   "source": [
    "%estimate EstimateCNotScaling nQubits=6"
   ]
  },
  {
   "cell_type": "code",
   "execution_count": null,
   "metadata": {},
   "outputs": [],
   "source": [
    "%estimate EstimateCNotScaling nQubits=7"
   ]
  },
  {
   "cell_type": "markdown",
   "metadata": {},
   "source": [
    "So the data we see for this correlation is as follows as pairs (# of qubits, # of `T` operations):\n",
    "\n",
    "| # of control qubits | # of `T` operation calls needed |\n",
    "|---|---|\n",
    "| 3 | 7 |\n",
    "| 4  | 21 |\n",
    "| 5 | 35 |\n",
    "| 6 | 49 |\n",
    "| 7 | 63 |\n",
    "\n",
    "What you can see here is that the more control qubits you have on an operation, the more `T` operations are needed to implement it."
   ]
  },
  {
   "cell_type": "markdown",
   "metadata": {},
   "source": [
    "----\n",
    "### Epilogue\n",
    "\n",
    "_The following cell logs what version of the components this was last tested with._"
   ]
  },
  {
   "cell_type": "code",
   "execution_count": 17,
   "metadata": {},
   "outputs": [
    {
     "data": {
      "application/x-qsharp-data": "{\"rows\":[{\"@type\":\"@tuple\",\"Item1\":\"iqsharp\",\"Item2\":\"0.24.210930\"},{\"@type\":\"@tuple\",\"Item1\":\"Jupyter Core\",\"Item2\":\"1.5.0.0\"},{\"@type\":\"@tuple\",\"Item1\":\".NET Runtime\",\"Item2\":\".NETCoreApp,Version=v6.0\"}]}",
      "text/html": [
       "<table><thead><tr><th style=\"text-align: start;\">Component</th><th style=\"text-align: start;\">Version</th></tr></thead><tbody><tr><td style=\"text-align: start;\">iqsharp</td><td style=\"text-align: start;\">0.24.210930</td></tr><tr><td style=\"text-align: start;\">Jupyter Core</td><td style=\"text-align: start;\">1.5.0.0</td></tr><tr><td style=\"text-align: start;\">.NET Runtime</td><td style=\"text-align: start;\">.NETCoreApp,Version=v6.0</td></tr></tbody></table>"
      ],
      "text/plain": [
       "Component    Version\n",
       "------------ ------------------------\n",
       "iqsharp      0.24.210930\n",
       "Jupyter Core 1.5.0.0\n",
       ".NET Runtime .NETCoreApp,Version=v6.0\n"
      ]
     },
     "metadata": {},
     "output_type": "display_data"
    }
   ],
   "source": [
    "%version"
   ]
  },
  {
   "cell_type": "code",
   "execution_count": null,
   "metadata": {},
   "outputs": [],
   "source": []
  }
 ],
 "metadata": {
  "kernelspec": {
   "display_name": "Q#",
   "language": "qsharp",
   "name": "iqsharp"
  },
  "language_info": {
   "file_extension": ".qs",
   "mimetype": "text/x-qsharp",
   "name": "qsharp",
   "version": "0.24"
  }
 },
 "nbformat": 4,
 "nbformat_minor": 4
}
