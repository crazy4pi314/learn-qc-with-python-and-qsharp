{
 "cells": [
  {
   "cell_type": "markdown",
   "metadata": {},
   "source": [
    "# [Learn Quantum Computing with Python and Q#](https://www.manning.com/books/learn-quantum-computing-with-python-and-q-sharp?a_aid=learn-qc-granade&a_bid=ee23f338)<br>Chapter 8 Exercise Solutions\n",
    "----\n",
    "> Copyright (c) Sarah Kaiser and Chris Granade.\n",
    "> Code sample from the book \"Learn Quantum Computing with Python and Q#\" by\n",
    "> Sarah Kaiser and Chris Granade, published by Manning Publications Co.\n",
    "> Book ISBN 9781617296130.\n",
    "> Code licensed under the MIT License."
   ]
  },
  {
   "cell_type": "markdown",
   "metadata": {},
   "source": [
    "### Preamble"
   ]
  },
  {
   "cell_type": "code",
   "execution_count": 1,
   "metadata": {},
   "outputs": [],
   "source": [
    "import numpy as np\n",
    "import qutip as qt\n",
    "import matplotlib.pyplot as plt\n",
    "import qsharp\n",
    "%matplotlib inline"
   ]
  },
  {
   "cell_type": "markdown",
   "metadata": {},
   "source": [
    "### Exercise 8.1"
   ]
  },
  {
   "cell_type": "markdown",
   "metadata": {},
   "source": [
    "**In Chapter 4, you used Python type annotations to represent the concept of a _strategy_ in the CHSH game.\n",
    "User-defined types in Q# can be used in a similar fashion.\n",
    "Give it a go by defining a new UDT for CHSH strategies and then use your new UDT to wrap the constant strategy from Chapter 4.**\n",
    "\n",
    "*HINT*: Your and Eve's parts of the strategy can each be represented as operations that take a `Result` and output a `Result`.\n",
    "That is, as operations of type `Result => Result`."
   ]
  },
  {
   "cell_type": "code",
   "execution_count": 2,
   "metadata": {},
   "outputs": [
    {
     "data": {
      "text/plain": [
       "<Q# callable Strategy>"
      ]
     },
     "execution_count": 2,
     "metadata": {},
     "output_type": "execute_result"
    }
   ],
   "source": [
    "strategy = qsharp.compile(\"\"\"\n",
    "    newtype Strategy = (\n",
    "        PlayAlice: (Result => Result),\n",
    "        PlayBob: (Result => Result)\n",
    "    );\n",
    "\"\"\")\n",
    "strategy"
   ]
  },
  {
   "cell_type": "markdown",
   "metadata": {},
   "source": [
    "----\n",
    "### Exercise 8.2"
   ]
  },
  {
   "cell_type": "markdown",
   "metadata": {},
   "source": [
    "**You can find the model for Lancelot's results if you use Born's rule!\n",
    "We have put the definition from Chapter 2 below, see if you can plot the resulting value as a function of Lancelot's scale using Python.\n",
    "Does your plot look like a trigonometric function?**\n",
    "\n",
    "\\begin{align}\n",
    "    \\Pr(\\text{measurement} | \\text{state}) = |\\left\\langle \\text{measurement} \\mid \\text{state} \\right\\rangle|^2\n",
    "\\end{align}\n",
    "\n",
    "*HINT*: For Lancelot's measurements, the $\\left\\langle \\text{measurement} \\right|$ part of Born's rule is given by $\\left\\langle 1 \\right|$.\n",
    "Immediately before measuring, his qubit will be in the state $H R_1(\\theta * \\textrm{scale}) H \\left|0\\right\\rangle$.\n",
    "You can simulate the `R1` operation in QuTiP by using the matrix form in the Q# reference at https://docs.microsoft.com/qsharp/api/qsharp/microsoft.quantum.intrinsic.r1."
   ]
  },
  {
   "cell_type": "markdown",
   "metadata": {},
   "source": [
    "For the purposes of illustration, let's choose $\\theta = 0.456$ radians."
   ]
  },
  {
   "cell_type": "code",
   "execution_count": 3,
   "metadata": {},
   "outputs": [],
   "source": [
    "theta = 0.456"
   ]
  },
  {
   "cell_type": "markdown",
   "metadata": {},
   "source": [
    "Next, as the hint gives us, we'll need to define a matrix that we can use to simulate the `R1` operation:"
   ]
  },
  {
   "cell_type": "code",
   "execution_count": 4,
   "metadata": {},
   "outputs": [],
   "source": [
    "def r1_matrix(angle: float) -> qt.Qobj:\n",
    "    return qt.Qobj([\n",
    "        [1, 0],\n",
    "        [0, np.exp(1j * angle)]\n",
    "    ])"
   ]
  },
  {
   "cell_type": "code",
   "execution_count": 5,
   "metadata": {},
   "outputs": [
    {
     "data": {
      "text/latex": [
       "Quantum object: dims = [[2], [2]], shape = (2, 2), type = oper, isherm = False\\begin{equation*}\\left(\\begin{array}{*{11}c}1.0 & 0.0\\\\0.0 & (0.898+0.440j)\\\\\\end{array}\\right)\\end{equation*}"
      ],
      "text/plain": [
       "Quantum object: dims = [[2], [2]], shape = (2, 2), type = oper, isherm = False\n",
       "Qobj data =\n",
       "[[1.        +0.j         0.        +0.j        ]\n",
       " [0.        +0.j         0.89782112+0.44036035j]]"
      ]
     },
     "execution_count": 5,
     "metadata": {},
     "output_type": "execute_result"
    }
   ],
   "source": [
    "r1_matrix(theta)"
   ]
  },
  {
   "cell_type": "markdown",
   "metadata": {},
   "source": [
    "We can use this to find Lancelot's state after applying each hidden rotation:"
   ]
  },
  {
   "cell_type": "code",
   "execution_count": 6,
   "metadata": {},
   "outputs": [],
   "source": [
    "def lancelot_final_state(theta: float, scale: float) -> qt.Qobj:\n",
    "    initial_state = qt.basis(2, 0)\n",
    "    # Simulate the H Q# operation.\n",
    "    state = qt.qip.operations.hadamard_transform() * initial_state\n",
    "    # Simulate the R1 operation.\n",
    "    state = r1_matrix(theta * scale) * state\n",
    "    # Simulate undoing the H operation with another call to H.\n",
    "    state = qt.qip.operations.hadamard_transform() * state\n",
    "    \n",
    "    return state"
   ]
  },
  {
   "cell_type": "code",
   "execution_count": 7,
   "metadata": {},
   "outputs": [
    {
     "data": {
      "text/latex": [
       "Quantum object: dims = [[2], [1]], shape = (2, 1), type = ket\\begin{equation*}\\left(\\begin{array}{*{11}c}(0.927+0.260j)\\\\(0.073-0.260j)\\\\\\end{array}\\right)\\end{equation*}"
      ],
      "text/plain": [
       "Quantum object: dims = [[2], [1]], shape = (2, 1), type = ket\n",
       "Qobj data =\n",
       "[[0.92699235+0.26014906j]\n",
       " [0.07300765-0.26014906j]]"
      ]
     },
     "execution_count": 7,
     "metadata": {},
     "output_type": "execute_result"
    }
   ],
   "source": [
    "lancelot_final_state(theta, 1.2)"
   ]
  },
  {
   "cell_type": "markdown",
   "metadata": {},
   "source": [
    "We now have everything we need to predict the probability of a \"1\" outcome:"
   ]
  },
  {
   "cell_type": "code",
   "execution_count": 8,
   "metadata": {},
   "outputs": [],
   "source": [
    "def lancelot_pr1(theta: float, scale: float) -> float:\n",
    "    ket1 = qt.basis(2, 1)\n",
    "    \n",
    "    # Apply Born's rule.\n",
    "    return np.abs((ket1.dag() * lancelot_final_state(theta, scale))[0, 0]) ** 2"
   ]
  },
  {
   "cell_type": "code",
   "execution_count": 9,
   "metadata": {},
   "outputs": [
    {
     "data": {
      "text/plain": [
       "0.07300764875288458"
      ]
     },
     "execution_count": 9,
     "metadata": {},
     "output_type": "execute_result"
    }
   ],
   "source": [
    "lancelot_pr1(theta, 1.2)"
   ]
  },
  {
   "cell_type": "markdown",
   "metadata": {},
   "source": [
    "Plotting for a variety of different scales, we see the expected sinusoidal shape:"
   ]
  },
  {
   "cell_type": "code",
   "execution_count": 10,
   "metadata": {},
   "outputs": [
    {
     "data": {
      "text/plain": [
       "[<matplotlib.lines.Line2D at 0x2701b9dd888>]"
      ]
     },
     "execution_count": 10,
     "metadata": {},
     "output_type": "execute_result"
    },
    {
     "data": {
      "image/png": "[encoded data removed]",
      "text/plain": [
       "<Figure size 432x288 with 1 Axes>"
      ]
     },
     "metadata": {
      "needs_background": "light"
     },
     "output_type": "display_data"
    }
   ],
   "source": [
    "scales = np.linspace(0, 20, 201)\n",
    "pr1s = [lancelot_pr1(theta, scale) for scale in scales]\n",
    "plt.plot(scales, pr1s)"
   ]
  },
  {
   "cell_type": "markdown",
   "metadata": {},
   "source": [
    "----\n",
    "### Exercise 8.3"
   ]
  },
  {
   "cell_type": "markdown",
   "metadata": {},
   "source": [
    "**Try writing Q# programs that use `AssertQubit` and `DumpMachine` to verify that:**\n",
    "\n",
    "- $\\left|+\\right\\rangle$ and $\\left|-\\right\\rangle$ are both eigenstates of the `X` operation.\n",
    "- $\\left|0\\right\\rangle$ and $\\left|1\\right\\rangle$ are both eigenstates of the `Rz` operation, regardless of what angle you choose to rotate by.\n",
    "\n",
    "For even more practice, try figuring out what the eigenstates of the `Y` and `CNOT` operations and writing a Q# program to verify your guesses!\n",
    "\n",
    "*HINT*: You can find the vector form of the eigenstates of a unitary operation using QuTiP.\n",
    "For instance, the eigenstates of the `Y` operation are given by `qt.sigmay().eigenstates()`.\n",
    "From there, you can use what you learned about rotations in Chapters 4 and 5 to figure out which Q# operations prepare those states.\n",
    "\n",
    "Don't forget you can always test if a particular state is an eigenstate of an operation by just writing a quick test in Q#!  "
   ]
  },
  {
   "cell_type": "markdown",
   "metadata": {},
   "source": [
    "Let's start by verifying that $\\left|+\\right\\rangle$ and $\\left|-\\right\\rangle$ are both eigenstates of the `X` operation."
   ]
  },
  {
   "cell_type": "code",
   "execution_count": 11,
   "metadata": {},
   "outputs": [],
   "source": [
    "verify_x_eigenstates = qsharp.compile(\"\"\"\n",
    "    open Microsoft.Quantum.Diagnostics;\n",
    "    \n",
    "    operation VerifyXEigenstates() : Unit {\n",
    "        using (q = Qubit()) {\n",
    "            // Prepare |+⟩.\n",
    "            H(q);\n",
    "\n",
    "            // Check that the X operation does nothing.\n",
    "            X(q);\n",
    "            Message(\"Checking that |+⟩ is an eigenstate of the X operation.\");\n",
    "            DumpMachine();\n",
    "            \n",
    "            // Reset so that we're ready for the next check.\n",
    "            Reset(q);\n",
    "            \n",
    "            // Next, do the same with |−⟩.\n",
    "            X(q);\n",
    "            H(q);\n",
    "            \n",
    "            X(q);\n",
    "            Message(\"\");\n",
    "            Message(\"Checking that |−⟩ is an eigenstate of the X operation.\");\n",
    "            DumpMachine();\n",
    "            \n",
    "            Reset(q);\n",
    "        }\n",
    "    }\n",
    "\"\"\")"
   ]
  },
  {
   "cell_type": "code",
   "execution_count": 12,
   "metadata": {},
   "outputs": [
    {
     "name": "stdout",
     "output_type": "stream",
     "text": [
      "Checking that |+⟩ is an eigenstate of the X operation.\r\n",
      "|0⟩\t0.7071067811865476 + 0𝑖\n",
      "|1⟩\t0.7071067811865476 + 0𝑖\r\n",
      "Checking that |−⟩ is an eigenstate of the X operation.\r\n",
      "|0⟩\t-0.7071067811865476 + 0𝑖\n",
      "|1⟩\t0.7071067811865476 + 0𝑖"
     ]
    },
    {
     "data": {
      "text/plain": [
       "()"
      ]
     },
     "execution_count": 12,
     "metadata": {},
     "output_type": "execute_result"
    }
   ],
   "source": [
    "verify_x_eigenstates.simulate()"
   ]
  },
  {
   "cell_type": "markdown",
   "metadata": {},
   "source": [
    "Notice that in both cases, we got back the same state (up to a global phase), confirming the first part of the exercise.\n",
    "Doing the same for `Rz`, we add an input for the rotation angle:"
   ]
  },
  {
   "cell_type": "code",
   "execution_count": 13,
   "metadata": {},
   "outputs": [],
   "source": [
    "verify_rz_eigenstates = qsharp.compile(\"\"\"\n",
    "    open Microsoft.Quantum.Diagnostics;\n",
    "    \n",
    "    operation VerifyRzEigenstates(angle : Double) : Unit {\n",
    "        using (q = Qubit()) {\n",
    "            // Prepare |0⟩ by doing nothing.\n",
    "\n",
    "            // Check that the Rz operation does nothing.\n",
    "            Rz(angle, q);\n",
    "            Message(\"Checking that |0⟩ is an eigenstate of the Rz operation.\");\n",
    "            DumpMachine();\n",
    "            \n",
    "            // Reset so that we're ready for the next check.\n",
    "            Reset(q);\n",
    "            \n",
    "            // Next, do the same with |1⟩.\n",
    "            X(q);\n",
    "            \n",
    "            Rz(angle, q);\n",
    "            Message(\"\");\n",
    "            Message(\"Checking that |1⟩ is an eigenstate of the Rz operation.\");\n",
    "            DumpMachine();\n",
    "            \n",
    "            Reset(q);\n",
    "        }\n",
    "    }\n",
    "\"\"\")"
   ]
  },
  {
   "cell_type": "code",
   "execution_count": 14,
   "metadata": {},
   "outputs": [
    {
     "name": "stdout",
     "output_type": "stream",
     "text": [
      "Checking that |0⟩ is an eigenstate of the Rz operation.\r\n",
      "|0⟩\t0.9981094709838179 + -0.061461239268365025𝑖\n",
      "|1⟩\t0 + 0𝑖\r\n",
      "Checking that |1⟩ is an eigenstate of the Rz operation.\r\n",
      "|0⟩\t0 + 0𝑖\n",
      "|1⟩\t1.0000000000000002 + -3.580928224338447E-18𝑖"
     ]
    },
    {
     "data": {
      "text/plain": [
       "()"
      ]
     },
     "execution_count": 14,
     "metadata": {},
     "output_type": "execute_result"
    }
   ],
   "source": [
    "verify_rz_eigenstates.simulate(angle=0.123)"
   ]
  },
  {
   "cell_type": "code",
   "execution_count": 15,
   "metadata": {},
   "outputs": [
    {
     "name": "stdout",
     "output_type": "stream",
     "text": [
      "Checking that |0⟩ is an eigenstate of the Rz operation.\r\n",
      "|0⟩\t-0.6538817488057485 + -0.7565967608830586𝑖\n",
      "|1⟩\t0 + 0𝑖\r\n",
      "Checking that |1⟩ is an eigenstate of the Rz operation.\r\n",
      "|0⟩\t0 + 0𝑖\n",
      "|1⟩\t1.0000000000000002 + -2.699466214891338E-17𝑖"
     ]
    },
    {
     "data": {
      "text/plain": [
       "()"
      ]
     },
     "execution_count": 15,
     "metadata": {},
     "output_type": "execute_result"
    }
   ],
   "source": [
    "verify_rz_eigenstates.simulate(angle=4.567)"
   ]
  },
  {
   "cell_type": "markdown",
   "metadata": {},
   "source": [
    "Using the hint, we can find what eigenstates we should try for the `Y` and `CNOT` operations:"
   ]
  },
  {
   "cell_type": "code",
   "execution_count": 16,
   "metadata": {},
   "outputs": [
    {
     "data": {
      "text/plain": [
       "(array([-1.,  1.]),\n",
       " array([Quantum object: dims = [[2], [1]], shape = (2, 1), type = ket\n",
       " Qobj data =\n",
       " [[-0.70710678+0.j        ]\n",
       "  [ 0.        +0.70710678j]],\n",
       "        Quantum object: dims = [[2], [1]], shape = (2, 1), type = ket\n",
       " Qobj data =\n",
       " [[-0.70710678+0.j        ]\n",
       "  [ 0.        -0.70710678j]]], dtype=object))"
      ]
     },
     "execution_count": 16,
     "metadata": {},
     "output_type": "execute_result"
    }
   ],
   "source": [
    "qt.sigmay().eigenstates()"
   ]
  },
  {
   "cell_type": "code",
   "execution_count": 17,
   "metadata": {},
   "outputs": [
    {
     "data": {
      "text/plain": [
       "(array([-1.,  1.,  1.,  1.]),\n",
       " array([Quantum object: dims = [[2, 2], [1, 1]], shape = (4, 1), type = ket\n",
       " Qobj data =\n",
       " [[ 0.        ]\n",
       "  [ 0.        ]\n",
       "  [ 0.70710678]\n",
       "  [-0.70710678]],\n",
       "        Quantum object: dims = [[2, 2], [1, 1]], shape = (4, 1), type = ket\n",
       " Qobj data =\n",
       " [[0.]\n",
       "  [1.]\n",
       "  [0.]\n",
       "  [0.]],\n",
       "        Quantum object: dims = [[2, 2], [1, 1]], shape = (4, 1), type = ket\n",
       " Qobj data =\n",
       " [[1.]\n",
       "  [0.]\n",
       "  [0.]\n",
       "  [0.]],\n",
       "        Quantum object: dims = [[2, 2], [1, 1]], shape = (4, 1), type = ket\n",
       " Qobj data =\n",
       " [[0.        ]\n",
       "  [0.        ]\n",
       "  [0.70710678]\n",
       "  [0.70710678]]], dtype=object))"
      ]
     },
     "execution_count": 17,
     "metadata": {},
     "output_type": "execute_result"
    }
   ],
   "source": [
    "qt.qip.operations.cnot().eigenstates()"
   ]
  },
  {
   "cell_type": "markdown",
   "metadata": {},
   "source": [
    "That is, $(|0\\rangle + i |1\\rangle) / \\sqrt{2}$ and $(|0\\rangle - i |1\\rangle) / \\sqrt{2}$ are eigenstates of the `Y` operation, while $|00\\rangle$, $|01\\rangle$, $|1+\\rangle$ and $|1-\\rangle$ are eigenstates of the `CNOT` operation."
   ]
  },
  {
   "cell_type": "markdown",
   "metadata": {},
   "source": [
    "----\n",
    "### Exercise 8.4"
   ]
  },
  {
   "cell_type": "markdown",
   "metadata": {},
   "source": [
    "**Verify that $\\left|0\\right\\rangle\\left\\langle 0\\right| \\otimes \\mathbb{1} + \\left|1\\right\\rangle\\left\\langle{1}\\right| \\otimes X$ is the same as:**\n",
    "\n",
    "\\begin{align}\n",
    "    U_{\\mathrm{CNOT}} = \\left(\\begin{matrix}\n",
    "        \\mathbb{1} & 0 \\\\\n",
    "        0 & X\n",
    "    \\end{matrix}\\right).\n",
    "\\end{align}\n",
    "\n",
    "*HINT*: You can verify this by hand, by using NumPy's `np.kron` function, or QuTiP's `qt.tensor` function.\n",
    "If you need a refresher, check out how you simulated teleportation in Chapter 5, or check out the derivation of the Deutsch–Jozsa algorithm in Chapter 7."
   ]
  },
  {
   "cell_type": "code",
   "execution_count": 18,
   "metadata": {},
   "outputs": [],
   "source": [
    "ket0 = qt.basis(2, 0)\n",
    "ket1 = qt.basis(2, 1)"
   ]
  },
  {
   "cell_type": "code",
   "execution_count": 19,
   "metadata": {},
   "outputs": [
    {
     "data": {
      "text/latex": [
       "Quantum object: dims = [[2], [2]], shape = (2, 2), type = oper, isherm = True\\begin{equation*}\\left(\\begin{array}{*{11}c}1.0 & 0.0\\\\0.0 & 0.0\\\\\\end{array}\\right)\\end{equation*}"
      ],
      "text/plain": [
       "Quantum object: dims = [[2], [2]], shape = (2, 2), type = oper, isherm = True\n",
       "Qobj data =\n",
       "[[1. 0.]\n",
       " [0. 0.]]"
      ]
     },
     "execution_count": 19,
     "metadata": {},
     "output_type": "execute_result"
    }
   ],
   "source": [
    "projector_0 = ket0 * ket0.dag()\n",
    "projector_0"
   ]
  },
  {
   "cell_type": "code",
   "execution_count": 20,
   "metadata": {},
   "outputs": [
    {
     "data": {
      "text/latex": [
       "Quantum object: dims = [[2], [2]], shape = (2, 2), type = oper, isherm = True\\begin{equation*}\\left(\\begin{array}{*{11}c}0.0 & 0.0\\\\0.0 & 1.0\\\\\\end{array}\\right)\\end{equation*}"
      ],
      "text/plain": [
       "Quantum object: dims = [[2], [2]], shape = (2, 2), type = oper, isherm = True\n",
       "Qobj data =\n",
       "[[0. 0.]\n",
       " [0. 1.]]"
      ]
     },
     "execution_count": 20,
     "metadata": {},
     "output_type": "execute_result"
    }
   ],
   "source": [
    "projector_1 = ket1 * ket1.dag()\n",
    "projector_1"
   ]
  },
  {
   "cell_type": "code",
   "execution_count": 21,
   "metadata": {},
   "outputs": [
    {
     "data": {
      "text/latex": [
       "Quantum object: dims = [[2, 2], [2, 2]], shape = (4, 4), type = oper, isherm = True\\begin{equation*}\\left(\\begin{array}{*{11}c}1.0 & 0.0 & 0.0 & 0.0\\\\0.0 & 1.0 & 0.0 & 0.0\\\\0.0 & 0.0 & 0.0 & 1.0\\\\0.0 & 0.0 & 1.0 & 0.0\\\\\\end{array}\\right)\\end{equation*}"
      ],
      "text/plain": [
       "Quantum object: dims = [[2, 2], [2, 2]], shape = (4, 4), type = oper, isherm = True\n",
       "Qobj data =\n",
       "[[1. 0. 0. 0.]\n",
       " [0. 1. 0. 0.]\n",
       " [0. 0. 0. 1.]\n",
       " [0. 0. 1. 0.]]"
      ]
     },
     "execution_count": 21,
     "metadata": {},
     "output_type": "execute_result"
    }
   ],
   "source": [
    "qt.tensor(projector_0, qt.qeye(2)) + qt.tensor(projector_1, qt.sigmax())"
   ]
  },
  {
   "cell_type": "markdown",
   "metadata": {},
   "source": [
    "----\n",
    "### Exercise 8.5"
   ]
  },
  {
   "cell_type": "markdown",
   "metadata": {},
   "source": [
    "**Either by hand or using QuTiP, verify that state dumped by running the Q# snippet below is the same as $\\left|-1\\right\\rangle = \\left|-\\right\\rangle \\otimes \\left|1\\right\\rangle$.**\n",
    "\n",
    "```Q#\n",
    "using ((control, target) = (Qubit(), Qubit())) {\n",
    "    H(control);\n",
    "    X(target);\n",
    "\n",
    "    CZ(control, target);\n",
    "    DumpRegister((), [control, target]);\n",
    "\n",
    "    Reset(control);\n",
    "    Reset(target);\n",
    "}\n",
    "```\n",
    "\n",
    "*NOTE*: If you seem to get the right answer other than that the order of the qubits are swapped, note that `DumpMachine` uses a _little-endian_ representation to order states.\n",
    "In little-endian, |2⟩ is short-hand for |01⟩, not |10⟩.\n",
    "If this seems confusing, blame the x86 processor architecture…"
   ]
  },
  {
   "cell_type": "markdown",
   "metadata": {},
   "source": [
    "Let's first run the above snippet to see what output is generated."
   ]
  },
  {
   "cell_type": "code",
   "execution_count": 22,
   "metadata": {},
   "outputs": [],
   "source": [
    "run_exercise_85 = qsharp.compile(\"\"\"\n",
    "    open Microsoft.Quantum.Diagnostics;\n",
    "\n",
    "    operation RunExercise85() : Unit {\n",
    "        using ((control, target) = (Qubit(), Qubit())) {\n",
    "            H(control);\n",
    "            X(target);\n",
    "\n",
    "            CZ(control, target);\n",
    "            DumpRegister((), [control, target]);\n",
    "\n",
    "            Reset(control);\n",
    "            Reset(target);\n",
    "        }\n",
    "    }\n",
    "\"\"\")"
   ]
  },
  {
   "cell_type": "code",
   "execution_count": 23,
   "metadata": {},
   "outputs": [
    {
     "name": "stdout",
     "output_type": "stream",
     "text": [
      "|0⟩\t0 + 0𝑖\n",
      "|1⟩\t0 + 0𝑖\n",
      "|2⟩\t0.7071067811865476 + 0𝑖\n",
      "|3⟩\t-0.7071067811865476 + 0𝑖"
     ]
    },
    {
     "data": {
      "text/plain": [
       "()"
      ]
     },
     "execution_count": 23,
     "metadata": {},
     "output_type": "execute_result"
    }
   ],
   "source": [
    "run_exercise_85.simulate()"
   ]
  },
  {
   "cell_type": "markdown",
   "metadata": {},
   "source": [
    "Next, let's compute what $\\left|-1\\right\\rangle = \\left|-\\right\\rangle \\otimes \\left|1\\right\\rangle$ in vector notation by using QuTiP."
   ]
  },
  {
   "cell_type": "code",
   "execution_count": 24,
   "metadata": {},
   "outputs": [],
   "source": [
    "ket_minus = qt.Qobj([\n",
    "    [1],\n",
    "    [-1]\n",
    "]) / np.sqrt(2)\n",
    "ket1 = qt.basis(2, 1)"
   ]
  },
  {
   "cell_type": "code",
   "execution_count": 25,
   "metadata": {},
   "outputs": [
    {
     "data": {
      "text/latex": [
       "Quantum object: dims = [[2, 2], [1, 1]], shape = (4, 1), type = ket\\begin{equation*}\\left(\\begin{array}{*{11}c}0.0\\\\0.707\\\\0.0\\\\-0.707\\\\\\end{array}\\right)\\end{equation*}"
      ],
      "text/plain": [
       "Quantum object: dims = [[2, 2], [1, 1]], shape = (4, 1), type = ket\n",
       "Qobj data =\n",
       "[[ 0.        ]\n",
       " [ 0.70710678]\n",
       " [ 0.        ]\n",
       " [-0.70710678]]"
      ]
     },
     "execution_count": 25,
     "metadata": {},
     "output_type": "execute_result"
    }
   ],
   "source": [
    "qt.tensor(ket_minus, ket1)"
   ]
  },
  {
   "cell_type": "markdown",
   "metadata": {},
   "source": [
    "As the note suggests, these two outputs appear different at first, but the resolution is that Q# uses little-endian notation, such that \"|2⟩\" means the |01⟩ amplitude, which QuTiP prints as the second row.\n",
    "We can make this more clear by manually telling IQ# to print out as bitstrings instead of little-endian notation.\n",
    "\n",
    "**WARNING:** Calling the `%config` magic from Python is not officially supported, and may break in future versions of Q#."
   ]
  },
  {
   "cell_type": "code",
   "execution_count": 26,
   "metadata": {},
   "outputs": [
    {
     "data": {
      "text/plain": [
       "'\"Bitstring\"'"
      ]
     },
     "execution_count": 26,
     "metadata": {},
     "output_type": "execute_result"
    }
   ],
   "source": [
    "qsharp.client._execute('%config dump.basisStateLabelingConvention = \"Bitstring\"')"
   ]
  },
  {
   "cell_type": "code",
   "execution_count": 27,
   "metadata": {},
   "outputs": [
    {
     "name": "stdout",
     "output_type": "stream",
     "text": [
      "|00⟩\t0 + 0𝑖\n",
      "|01⟩\t0.7071067811865476 + 0𝑖\n",
      "|10⟩\t0 + 0𝑖\n",
      "|11⟩\t-0.7071067811865476 + 0𝑖"
     ]
    },
    {
     "data": {
      "text/plain": [
       "()"
      ]
     },
     "execution_count": 27,
     "metadata": {},
     "output_type": "execute_result"
    }
   ],
   "source": [
    "run_exercise_85.simulate()"
   ]
  },
  {
   "cell_type": "markdown",
   "metadata": {},
   "source": [
    "----\n",
    "### Epilogue\n",
    "\n",
    "_The following cell logs what version of the components this was last tested with._"
   ]
  },
  {
   "cell_type": "code",
   "execution_count": 28,
   "metadata": {},
   "outputs": [
    {
     "data": {
      "text/plain": [
       "{'iqsharp': LooseVersion ('0.12.20070124'),\n",
       " 'Jupyter Core': LooseVersion ('1.4.0.0'),\n",
       " '.NET Runtime': LooseVersion ('.NETCoreApp,Version=v3.1'),\n",
       " 'qsharp': LooseVersion ('0.12.2007.124')}"
      ]
     },
     "execution_count": 28,
     "metadata": {},
     "output_type": "execute_result"
    }
   ],
   "source": [
    "qsharp.component_versions()"
   ]
  }
 ],
 "metadata": {
  "kernelspec": {
   "display_name": "Python 3",
   "language": "python",
   "name": "python3"
  },
  "language_info": {
   "codemirror_mode": {
    "name": "ipython",
    "version": 3
   },
   "file_extension": ".py",
   "mimetype": "text/x-python",
   "name": "python",
   "nbconvert_exporter": "python",
   "pygments_lexer": "ipython3",
   "version": "3.7.6"
  }
 },
 "nbformat": 4,
 "nbformat_minor": 4
}
